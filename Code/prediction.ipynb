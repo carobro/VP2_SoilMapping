{
 "cells": [
  {
   "cell_type": "code",
   "execution_count": 21,
   "metadata": {},
   "outputs": [
    {
     "name": "stdout",
     "output_type": "stream",
     "text": [
      "bands 12 rows 6442 columns 7126\n"
     ]
    }
   ],
   "source": [
    "%reset\n",
    "import numpy as np\n",
    "from osgeo import gdal, osr, ogr\n",
    "from skimage import exposure\n",
    "from skimage.segmentation import quickshift, slic\n",
    "from sklearn.ensemble import RandomForestClassifier\n",
    "import time\n",
    "import os\n",
    "import matplotlib as mp\n",
    "import matplotlib.pyplot as plt\n",
    "import scipy\n",
    "from scipy import stats\n",
    "import pickle\n",
    "from sklearn.linear_model import LogisticRegression\n",
    "\n",
    "\n",
    "naip_fn = \"D:/cbr/VP2/VP2_SoilMapping/CodeOutput/output_file_channelFusion_4.tif\"\n",
    "load_model = pickle.load(open('classifier_prediction_model.sav', \"rb\"))\n",
    "\n",
    "driverTiff = gdal.GetDriverByName('GTiff')\n",
    "naip_ds = gdal.Open(naip_fn)\n",
    "\n",
    "nbands = naip_ds.RasterCount\n",
    "band_data = []\n",
    "\n",
    "print('bands', naip_ds.RasterCount, 'rows', naip_ds.RasterYSize, 'columns', naip_ds.RasterXSize)\n",
    "for i in range(1, nbands+1):\n",
    "        band = naip_ds.GetRasterBand(i).ReadAsArray()\n",
    "        band_data.append(band)\n",
    "\n",
    "band_data = np.dstack(band_data)"
   ]
  },
  {
   "cell_type": "code",
   "execution_count": 22,
   "metadata": {},
   "outputs": [
    {
     "name": "stdout",
     "output_type": "stream",
     "text": [
      "segments complete 109.35734534263611\n"
     ]
    }
   ],
   "source": [
    "# scale image values from 0.0 - 1.0\n",
    "#band_data[np.isnan(band_data)] = 0\n",
    "band_data[np.isnan(band_data)] = -9999.0\n",
    "img = exposure.rescale_intensity(band_data, in_range= (0.0, 225))\n",
    "\n",
    "# do segmentation multiple options with quickshift and slic\n",
    "seg_start = time.time()\n",
    "# segments = quickshift(img, ratio=0.99, max_dist=5, convert2lab=False)\n",
    "segments = slic(img, n_segments=1000, compactness=3, start_label = 1)\n",
    "print('segments complete', time.time() - seg_start)\n",
    "\n",
    "def segment_features(segment_pixels):\n",
    "    features = []\n",
    "    npixels, nbands = segment_pixels.shape\n",
    "    for b in range(nbands):\n",
    "        stats = scipy.stats.describe(segment_pixels[:, b])\n",
    "        band_stats = list(stats.minmax) + list(stats)[2:]\n",
    "        if npixels == 1:\n",
    "            band_stats[3] = 0.0\n",
    "        features += band_stats\n",
    "    return features"
   ]
  },
  {
   "cell_type": "code",
   "execution_count": 23,
   "metadata": {},
   "outputs": [],
   "source": [
    "segment_ids = np.unique(segments)\n",
    "objects = []\n",
    "object_ids = []\n",
    "for id in segment_ids:\n",
    "    segment_pixels = img[segments == id]\n",
    "    object_features = segment_features(segment_pixels)\n",
    "    objects.append(object_features)\n",
    "    object_ids.append(id)"
   ]
  },
  {
   "cell_type": "code",
   "execution_count": 24,
   "metadata": {},
   "outputs": [
    {
     "name": "stdout",
     "output_type": "stream",
     "text": [
      "Prediction applied to numpy array\n",
      "Saving classification to raster\n",
      "Done\n"
     ]
    }
   ],
   "source": [
    "predicted = load_model.predict(objects)\n",
    "\n",
    "clf = np.copy(segments)\n",
    "for segment_id, klass in zip(segment_ids, predicted):\n",
    "    clf[clf == segment_id] = klass\n",
    "\n",
    "print('Prediction applied to numpy array')\n",
    "\n",
    "mask = np.sum(img, axis=2)\n",
    "mask[mask> 0] = 1.0\n",
    "mask[mask == 0] = -1.0\n",
    "\n",
    "clf = np.multiply(clf, mask)\n",
    "clf[clf < 0] = -9999.0\n",
    "\n",
    "print('Saving classification to raster')\n",
    "def CreateGeoTiff(Name, Array, driver, GeoT, Projection, DataType):\n",
    "    DataSet = driver.Create(Name, naip_ds.RasterXSize, naip_ds.RasterYSize, 1, DataType)\n",
    "    DataSet.SetGeoTransform(GeoT)\n",
    "    DataSet.SetProjection(Projection)\n",
    "    DataSet.GetRasterBand(1).SetNoDataValue(-9999.0)\n",
    "    DataSet.GetRasterBand(1).WriteArray(Array)\n",
    "    DataSet.FlushCache()\n",
    "    return Name\n",
    "\n",
    "CreateGeoTiff('D:/cbr/VP2/VP2_SoilMapping/Processed/prediction_Punkte.tif', clf, gdal.GetDriverByName ( \"GTiff\" ), naip_ds.GetGeoTransform(), naip_ds.GetProjection(), gdal.GDT_Float32)\n",
    "print('Done')"
   ]
  }
 ],
 "metadata": {
  "interpreter": {
   "hash": "7b3869acfdba34c56e2bedf91b21357bab8a3024fdb722ea37327488350c28b2"
  },
  "kernelspec": {
   "display_name": "Python 3.9.7 64-bit ('pygdal': conda)",
   "name": "python3"
  },
  "language_info": {
   "codemirror_mode": {
    "name": "ipython",
    "version": 3
   },
   "file_extension": ".py",
   "mimetype": "text/x-python",
   "name": "python",
   "nbconvert_exporter": "python",
   "pygments_lexer": "ipython3",
   "version": "3.9.7"
  },
  "orig_nbformat": 4
 },
 "nbformat": 4,
 "nbformat_minor": 2
}
