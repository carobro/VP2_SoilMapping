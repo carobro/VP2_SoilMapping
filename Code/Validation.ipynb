{
 "cells": [
  {
   "cell_type": "code",
   "execution_count": 10,
   "metadata": {},
   "outputs": [
    {
     "name": "stdout",
     "output_type": "stream",
     "text": [
      "               Prd. Grass  Prd. Other  Prd. Peat  Pred. Possib. Peat\n",
      "Grass                   5           2          0                   0\n",
      "Other                   0          16          0                   0\n",
      "Pead                    0           0          8                   0\n",
      "Possible Peat           1           3          0                   0\n",
      " \n",
      "____ Statistics ____\n",
      "Kappa     : 73.18 %\n",
      "Precision : 74.35 %\n",
      "Recall    : 82.86 %\n",
      "Accuracy  : 82.86 %\n",
      "F1        : 77.78 %\n"
     ]
    }
   ],
   "source": [
    "import numpy as np\n",
    "from osgeo import gdal, ogr\n",
    "from sklearn import metrics\n",
    "import pandas as pd\n",
    "import warnings\n",
    "\n",
    "warnings.filterwarnings(\"ignore\")\n",
    "\n",
    "# Load Validation data and convert it to raster\n",
    "naip_fn = \"D:/cbr/VP2/VP2_SoilMapping/Processed/Wetzwil_Ortho/verschiedene Stacks/Stack_rgb_dem_ndvi_nir.tif\"\n",
    "\n",
    "driverTiff = gdal.GetDriverByName('GTiff')\n",
    "naip_ds = gdal.Open(naip_fn)\n",
    "\n",
    "test_fn = \"D:/cbr/VP2/VP2_SoilMapping/Shapes/test_klassiert.shp\"\n",
    "test_ds = ogr.Open(test_fn)\n",
    "lyr = test_ds.GetLayer()\n",
    "driver = gdal.GetDriverByName('MEM')\n",
    "target_ds = driver.Create('', naip_ds.RasterXSize, naip_ds.RasterYSize, 1, gdal.GDT_UInt16)\n",
    "target_ds.SetGeoTransform(naip_ds.GetGeoTransform())\n",
    "target_ds.SetProjection(naip_ds.GetProjection())\n",
    "options = ['ATTRIBUTE=id']\n",
    "gdal.RasterizeLayer(target_ds, [1], lyr, options=options)\n",
    "\n",
    "# load the predicted classified image\n",
    "truth = target_ds.GetRasterBand(1).ReadAsArray()\n",
    "pred_ds = gdal.Open('D:/cbr/VP2/VP2_SoilMapping/Processed/Wetzwil_Ortho/verschiedene Stacks/Klassifikation_rgb_dem_ndvi_nir_10000_fs.tif')\n",
    "pred = pred_ds.GetRasterBand(1).ReadAsArray()\n",
    "\n",
    "idx = np.nonzero(truth)\n",
    "\n",
    "# create confusion matrix from the truth (validation) data and the predicted data\n",
    "cm = metrics.confusion_matrix(truth[idx], pred[idx])\n",
    "\n",
    "#calculate Indices\n",
    "kappa = metrics.cohen_kappa_score(truth[idx], pred[idx])\n",
    "precision = metrics.precision_score(truth[idx], pred[idx], average='weighted')\n",
    "recall = metrics.recall_score(truth[idx], pred[idx], average='weighted')\n",
    "accuracy = metrics.accuracy_score(truth[idx], pred[idx])\n",
    "f1 = metrics.f1_score(truth[idx], pred[idx], average='weighted')\n",
    "\n",
    "# Make the confusion matrix more beautiful\n",
    "corr_matrix = pd.DataFrame(data=cm, index=[\"Grass\", \"Other\", \"Pead\", \"Possible Peat\"], columns=[\"Prd. Grass\", \"Prd. Other\", \"Prd. Peat\", \"Pred. Possib. Peat\"])\n",
    "print(corr_matrix)\n",
    "\n",
    "print(\" \")\n",
    "print(\"____ Statistics ____\")\n",
    "print(\"Kappa     :\", str(round(kappa * 100, 2)),  \"%\")\n",
    "print(\"Precision :\", str(round(precision * 100, 2)), \"%\")\n",
    "print(\"Recall    :\", str(round(recall * 100, 2)), \"%\")\n",
    "print(\"Accuracy  :\", str(round(accuracy * 100, 2)), \"%\")\n",
    "print(\"F1        :\", str(round(f1 * 100, 2)), \"%\")\n",
    "\n",
    "# Old indices. Not longer in use because they work only for two classes, but still good to know\n",
    "#A = cm[0][0]\n",
    "#B = cm[0][1]\n",
    "#C = cm[1][0]\n",
    "#D = cm[1][1]\n",
    "#accuracy = cm.diagonal() / cm.sum(axis=0)\n",
    "#print(\"Accuracy :                   \", accuracy)\n",
    "#FAR = (cm[0][1]) / ((cm[0][1]) + (cm[0][0]))\n",
    "#print(\"False Alarm Ratio :          \", FAR)\n",
    "\n"
   ]
  }
 ],
 "metadata": {
  "interpreter": {
   "hash": "7b3869acfdba34c56e2bedf91b21357bab8a3024fdb722ea37327488350c28b2"
  },
  "kernelspec": {
   "display_name": "Python 3.9.7 64-bit ('pygdal': conda)",
   "name": "python3"
  },
  "language_info": {
   "codemirror_mode": {
    "name": "ipython",
    "version": 3
   },
   "file_extension": ".py",
   "mimetype": "text/x-python",
   "name": "python",
   "nbconvert_exporter": "python",
   "pygments_lexer": "ipython3",
   "version": "3.9.7"
  },
  "orig_nbformat": 4
 },
 "nbformat": 4,
 "nbformat_minor": 2
}
