{
 "cells": [
  {
   "cell_type": "code",
   "execution_count": 50,
   "metadata": {},
   "outputs": [
    {
     "name": "stdout",
     "output_type": "stream",
     "text": [
      "               Pred. Grass  Pred. Other  Pred. Grey Cluster  \\\n",
      "Grass                    5            2                   0   \n",
      "Other                    0           16                   0   \n",
      "Grey Cluster             0            2                   6   \n",
      "Possible Grey            0            4                   0   \n",
      "\n",
      "               Pred. Possible Grey  \n",
      "Grass                            0  \n",
      "Other                            0  \n",
      "Grey Cluster                     0  \n",
      "Possible Grey                    0  \n",
      " \n",
      "######## Statistics ######### \n",
      "[[ 5  2  0  0]\n",
      " [ 0 16  0  0]\n",
      " [ 0  2  6  0]\n",
      " [ 0  4  0  0]]\n",
      "Kappa : 0.6306068601583114\n",
      "Precision : 0.7333333333333333\n",
      "Recall : 0.7714285714285715\n",
      "Accuracy : 0.7714285714285715\n"
     ]
    },
    {
     "name": "stderr",
     "output_type": "stream",
     "text": [
      "C:\\Users\\st1154414\\.conda\\envs\\pygdal\\lib\\site-packages\\sklearn\\metrics\\_classification.py:1308: UndefinedMetricWarning: Precision is ill-defined and being set to 0.0 in labels with no predicted samples. Use `zero_division` parameter to control this behavior.\n",
      "  _warn_prf(average, modifier, msg_start, len(result))\n"
     ]
    }
   ],
   "source": [
    "import numpy as np\n",
    "from osgeo import gdal, ogr\n",
    "from sklearn import metrics\n",
    "import pandas as pd\n",
    "\n",
    "naip_fn = \"D:/cbr/VP2/VP2_SoilMapping/Processed/Wetzwil_Ortho/verschiedene Stacks/Stack_rgb_dem_ndvi_nir.tif\"\n",
    "\n",
    "driverTiff = gdal.GetDriverByName('GTiff')\n",
    "naip_ds = gdal.Open(naip_fn)\n",
    "\n",
    "test_fn = \"D:/cbr/VP2/VP2_SoilMapping/Shapes/test_klassiert.shp\"\n",
    "test_ds = ogr.Open(test_fn)\n",
    "lyr = test_ds.GetLayer()\n",
    "driver = gdal.GetDriverByName('MEM')\n",
    "target_ds = driver.Create('', naip_ds.RasterXSize, naip_ds.RasterYSize, 1, gdal.GDT_UInt16)\n",
    "target_ds.SetGeoTransform(naip_ds.GetGeoTransform())\n",
    "target_ds.SetProjection(naip_ds.GetProjection())\n",
    "options = ['ATTRIBUTE=id']\n",
    "gdal.RasterizeLayer(target_ds, [1], lyr, options=options)\n",
    "\n",
    "truth = target_ds.GetRasterBand(1).ReadAsArray()\n",
    "pred_ds = gdal.Open('D:/cbr/VP2/VP2_SoilMapping/Processed/classified_Wetzwil_mitvierKlassen.tif')\n",
    "pred = pred_ds.GetRasterBand(1).ReadAsArray()\n",
    "\n",
    "idx = np.nonzero(truth)\n",
    "\n",
    "cm = metrics.confusion_matrix(truth[idx], pred[idx])\n",
    "kappa = metrics.cohen_kappa_score(truth[idx], pred[idx])\n",
    "precision = metrics.precision_score(truth[idx], pred[idx], average='weighted')\n",
    "recall = metrics.recall_score(truth[idx], pred[idx], average='weighted')\n",
    "accuracy = metrics.accuracy_score(truth[idx], pred[idx])\n",
    "f1 = metrics.f1_score(truth[idx], pred[idx], average='weighted')\n",
    "#roc = metrics.roc_curve(truth[idx], pred[idx])\n",
    "#k_accuracy = metrics.top_k_accuracy_score(truth[idx], pred[idx])\n",
    "\n",
    "corr_matrix = pd.DataFrame(data=cm, index=[\"Grass\", \"Other\", \"Grey Cluster\", \"Possible Grey\"], columns=[\"Pred. Grass\", \"Pred. Other\", \"Pred. Grey Cluster\", \"Pred. Possible Grey\"])\n",
    "print(corr_matrix)\n",
    "\n",
    "print(\" \")\n",
    "print(\"######## Statistics ######### \")\n",
    "\n",
    "#accuracy = cm.diagonal() / cm.sum(axis=0)\n",
    "#print(\"Accuracy :                   \", accuracy)\n",
    "\n",
    "print(cm)\n",
    "print(\"Kappa :\", kappa)\n",
    "print(\"Precision :\", precision)\n",
    "print(\"Recall :\", recall)\n",
    "print(\"Accuracy :\", accuracy)\n",
    "print(\"F1 :\", f1)\n",
    "#print(\"Kappa :\", roc)\n",
    "#print(\"Kappa :\", k_accuracy)\n",
    "\n",
    "#A = cm[0][0]\n",
    "#B = cm[0][1]\n",
    "#C = cm[1][0]\n",
    "#D = cm[1][1]\n",
    "#P_corr = ((A + B) / (A + B + C + D)) * ((A + C) / (A + B + C + D))\n",
    "#P_incorr = ((C + D) / (A + B + C + D)) * ((B + D) / ( A + B + C + D))\n",
    "#Kappa = P_corr + P_incorr\n",
    "#print(\"Kappa Index :                \", Kappa)\n",
    "#\n",
    "#FAR = (cm[0][1]) / ((cm[0][1]) + (cm[0][0]))\n",
    "#print(\"False Alarm Ratio :          \", FAR)\n",
    "#\n",
    "#POD = (cm[0][0]) / ((cm[0][0]) + (cm[1][0]))\n",
    "#print(\"Propability of Detection :    \",POD)\n"
   ]
  }
 ],
 "metadata": {
  "interpreter": {
   "hash": "7b3869acfdba34c56e2bedf91b21357bab8a3024fdb722ea37327488350c28b2"
  },
  "kernelspec": {
   "display_name": "Python 3.9.7 64-bit ('pygdal': conda)",
   "name": "python3"
  },
  "language_info": {
   "codemirror_mode": {
    "name": "ipython",
    "version": 3
   },
   "file_extension": ".py",
   "mimetype": "text/x-python",
   "name": "python",
   "nbconvert_exporter": "python",
   "pygments_lexer": "ipython3",
   "version": "3.9.7"
  },
  "orig_nbformat": 4
 },
 "nbformat": 4,
 "nbformat_minor": 2
}
