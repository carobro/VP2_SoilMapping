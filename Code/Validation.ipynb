{
 "cells": [
  {
   "cell_type": "code",
   "execution_count": 7,
   "metadata": {},
   "outputs": [
    {
     "name": "stdout",
     "output_type": "stream",
     "text": [
      "[[20  0]\n",
      " [ 0  6]]\n",
      "              Pred. Grey Cluster  Pred. Other\n",
      "Grey Cluster                  20            0\n",
      "Other                          0            6\n",
      " \n",
      "######## Statistics ######### \n",
      "Accuracy :                    [1. 1.]\n",
      "Kappa Index :                 0.6449704142011835\n",
      "False Alarm Ratio :           0.0\n",
      "Propability of Detection :     1.0\n"
     ]
    }
   ],
   "source": [
    "import numpy as np\n",
    "from osgeo import gdal, ogr\n",
    "from sklearn import metrics\n",
    "import pandas as pd\n",
    "\n",
    "naip_fn = \"D:/cbr/VP2/VP2_SoilMapping/CodeOutput/channelFusion_Wetzwil_test.tif\"\n",
    "\n",
    "driverTiff = gdal.GetDriverByName('GTiff')\n",
    "naip_ds = gdal.Open(naip_fn)\n",
    "\n",
    "test_fn = \"D:/cbr/VP2/VP2_SoilMapping/Shapes/test.shp\"\n",
    "test_ds = ogr.Open(test_fn)\n",
    "lyr = test_ds.GetLayer()\n",
    "driver = gdal.GetDriverByName('MEM')\n",
    "target_ds = driver.Create('', naip_ds.RasterXSize, naip_ds.RasterYSize, 1, gdal.GDT_UInt16)\n",
    "target_ds.SetGeoTransform(naip_ds.GetGeoTransform())\n",
    "target_ds.SetProjection(naip_ds.GetProjection())\n",
    "options = ['ATTRIBUTE=id']\n",
    "gdal.RasterizeLayer(target_ds, [1], lyr, options=options)\n",
    "\n",
    "truth = target_ds.GetRasterBand(1).ReadAsArray()\n",
    "pred_ds = gdal.Open('D:/cbr/VP2/VP2_SoilMapping/Processed/classified_Wetzwil_mitDEM.tif')\n",
    "pred = pred_ds.GetRasterBand(1).ReadAsArray()\n",
    "\n",
    "idx = np.nonzero(truth)\n",
    "cm = metrics.confusion_matrix(truth[idx], pred[idx])\n",
    "\n",
    "print(cm)\n",
    "\n",
    "corr_matrix = pd.DataFrame(data=cm, index=[\"Grey Cluster\", \"Other\"], columns=[\"Pred. Grey Cluster\", \"Pred. Other\"])\n",
    "print(corr_matrix)\n",
    "\n",
    "print(\" \")\n",
    "print(\"######## Statistics ######### \")\n",
    "\n",
    "accuracy = cm.diagonal() / cm.sum(axis=0)\n",
    "print(\"Accuracy :                   \", accuracy)\n",
    "\n",
    "A = cm[0][0]\n",
    "B = cm[0][1]\n",
    "C = cm[1][0]\n",
    "D = cm[1][1]\n",
    "P_corr = ((A + B) / (A + B + C + D)) * ((A + C) / (A + B + C + D))\n",
    "P_incorr = ((C + D) / (A + B + C + D)) * ((B + D) / ( A + B + C + D))\n",
    "Kappa = P_corr + P_incorr\n",
    "print(\"Kappa Index :                \", Kappa)\n",
    "\n",
    "FAR = (cm[0][1]) / ((cm[0][1]) + (cm[0][0]))\n",
    "print(\"False Alarm Ratio :          \", FAR)\n",
    "\n",
    "POD = (cm[0][0]) / ((cm[0][0]) + (cm[1][0]))\n",
    "print(\"Propability of Detection :    \",POD)"
   ]
  }
 ],
 "metadata": {
  "interpreter": {
   "hash": "7b3869acfdba34c56e2bedf91b21357bab8a3024fdb722ea37327488350c28b2"
  },
  "kernelspec": {
   "display_name": "Python 3.9.7 64-bit ('pygdal': conda)",
   "name": "python3"
  },
  "language_info": {
   "codemirror_mode": {
    "name": "ipython",
    "version": 3
   },
   "file_extension": ".py",
   "mimetype": "text/x-python",
   "name": "python",
   "nbconvert_exporter": "python",
   "pygments_lexer": "ipython3",
   "version": "3.9.7"
  },
  "orig_nbformat": 4
 },
 "nbformat": 4,
 "nbformat_minor": 2
}
