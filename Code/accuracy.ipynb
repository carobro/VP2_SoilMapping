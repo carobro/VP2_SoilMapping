{
 "cells": [
  {
   "cell_type": "code",
   "execution_count": 3,
   "metadata": {},
   "outputs": [
    {
     "name": "stdout",
     "output_type": "stream",
     "text": [
      "D:/cbr/VP2/VP2_SoilMapping/CodeOutput/output_file_rgb.tif\n",
      "[[4 0 0 1 0 0]\n",
      " [0 0 0 1 0 0]\n",
      " [0 0 2 0 0 0]\n",
      " [0 0 0 8 0 0]\n",
      " [0 0 0 0 2 0]\n",
      " [0 0 0 0 0 5]]\n",
      "[4 0 2 8 2 5]\n",
      "[ 4  0  2 10  2  5]\n"
     ]
    },
    {
     "name": "stderr",
     "output_type": "stream",
     "text": [
      "C:\\Users\\ST1154~1\\AppData\\Local\\Temp/ipykernel_15416/915678775.py:32: RuntimeWarning: invalid value encountered in true_divide\n",
      "  accuracy = cm.diagonal() / cm.sum(axis=0)\n"
     ]
    }
   ],
   "source": [
    "import numpy as np\n",
    "from osgeo import gdal, ogr\n",
    "from sklearn import metrics\n",
    "\n",
    "naip_fn = \"D:/cbr/VP2/VP2_SoilMapping/CodeOutput/output_file_rgb.tif\"\n",
    "\n",
    "print(naip_fn)\n",
    "driverTiff = gdal.GetDriverByName('GTiff')\n",
    "naip_ds = gdal.Open(naip_fn)\n",
    "\n",
    "test_fn = \"D:/cbr/VP2/VP2_SoilMapping/Shapes/test.shp\"\n",
    "test_ds = ogr.Open(test_fn)\n",
    "lyr = test_ds.GetLayer()\n",
    "driver = gdal.GetDriverByName('MEM')\n",
    "target_ds = driver.Create('', naip_ds.RasterXSize, naip_ds.RasterYSize, 1, gdal.GDT_UInt16)\n",
    "target_ds.SetGeoTransform(naip_ds.GetGeoTransform())\n",
    "target_ds.SetProjection(naip_ds.GetProjection())\n",
    "options = ['ATTRIBUTE=id']\n",
    "gdal.RasterizeLayer(target_ds, [1], lyr, options=options)\n",
    "\n",
    "truth = target_ds.GetRasterBand(1).ReadAsArray()\n",
    "pred_ds = gdal.Open('D:/cbr/VP2/VP2_SoilMapping/Processed/classified.tif')\n",
    "pred = pred_ds.GetRasterBand(1).ReadAsArray()\n",
    "\n",
    "idx = np.nonzero(truth)\n",
    "cm = metrics.confusion_matrix(truth[idx], pred[idx])\n",
    "\n",
    "print(cm)\n",
    "print(cm.diagonal())\n",
    "print(cm.sum(axis=0))\n",
    "\n",
    "accuracy = cm.diagonal() / cm.sum(axis=0)\n",
    "\n",
    "\n"
   ]
  }
 ],
 "metadata": {
  "interpreter": {
   "hash": "7b3869acfdba34c56e2bedf91b21357bab8a3024fdb722ea37327488350c28b2"
  },
  "kernelspec": {
   "display_name": "Python 3.9.7 64-bit ('pygdal': conda)",
   "name": "python3"
  },
  "language_info": {
   "codemirror_mode": {
    "name": "ipython",
    "version": 3
   },
   "file_extension": ".py",
   "mimetype": "text/x-python",
   "name": "python",
   "nbconvert_exporter": "python",
   "pygments_lexer": "ipython3",
   "version": "3.9.7"
  },
  "orig_nbformat": 4
 },
 "nbformat": 4,
 "nbformat_minor": 2
}
