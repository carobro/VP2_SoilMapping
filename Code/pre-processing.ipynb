{
 "cells": [
  {
   "cell_type": "code",
   "execution_count": 1,
   "metadata": {},
   "outputs": [
    {
     "name": "stderr",
     "output_type": "stream",
     "text": [
      "C:\\Users\\ST1154~1\\AppData\\Local\\Temp/ipykernel_12396/3195988833.py:20: RuntimeWarning: invalid value encountered in true_divide\n",
      "  nir_ndvi = (b4 - b3)/(b4 + b3)\n",
      "C:\\Users\\ST1154~1\\AppData\\Local\\Temp/ipykernel_12396/3195988833.py:25: RuntimeWarning: invalid value encountered in true_divide\n",
      "  mspec_ndvi = (c4 - c3)/(c4 + c3)\n"
     ]
    },
    {
     "name": "stdout",
     "output_type": "stream",
     "text": [
      "Multispectral bands : 5\n",
      "(2135, 2362)\n",
      "NIR bands : 4\n",
      "(5675, 6279)\n",
      "rgb bands : 4\n",
      "(6442, 7126)\n"
     ]
    }
   ],
   "source": [
    "%reset\n",
    "import matplotlib.pyplot as plt\n",
    "import rasterio \n",
    "from rasterio.plot import plotting_extent, show\n",
    "from rasterio.merge import merge\n",
    "import geopandas as gpd\n",
    "from osgeo import gdal\n",
    "import numpy as np\n",
    "from skimage import io\n",
    "import sys\n",
    "\n",
    "ortho_NIR = \"D:/cbr/VP2/VP2_SoilMapping/Processed/Wetzwil_Ortho/nir.tif\"\n",
    "ortho_rgb = \"D:/cbr/VP2/VP2_SoilMapping/Processed/Wetzwil_Ortho/rgb.tif\"\n",
    "ortho_mspec = \"D:/cbr/VP2/VP2_SoilMapping/Processed/Wetzwil_Ortho/mspec.tif\"\n",
    "\n",
    "g = gdal.Open(ortho_NIR)\n",
    "\n",
    "b3 = g.GetRasterBand(2).ReadAsArray().astype(np.float32)\n",
    "b4 = g.GetRasterBand(3).ReadAsArray().astype(np.float32)\n",
    "nir_ndvi = (b4 - b3)/(b4 + b3)\n",
    "\n",
    "c = gdal.Open(ortho_mspec)\n",
    "c3 = c.GetRasterBand(2).ReadAsArray().astype(np.float32)\n",
    "c4 = c.GetRasterBand(4).ReadAsArray().astype(np.float32)\n",
    "mspec_ndvi = (c4 - c3)/(c4 + c3)\n",
    "\n",
    "\n",
    "dataset = rasterio.open(ortho_mspec)\n",
    "x = gdal.Open(ortho_mspec)\n",
    "x.SetGeoTransform(g.GetGeoTransform())\n",
    "x.SetProjection(g.GetProjection())\n",
    "print('Multispectral bands :', dataset.count)\n",
    "mspec_green = dataset.read(1)\n",
    "print(mspec_green.shape)\n",
    "mspec_red = dataset.read(2)\n",
    "mspec_rededge = dataset.read(3)\n",
    "mspec_nir = dataset.read(4)\n",
    "mspec_bands = [mspec_green, mspec_red, mspec_rededge, mspec_nir, mspec_ndvi]\n",
    "\n",
    "\n",
    "dataset = rasterio.open(ortho_NIR)\n",
    "x = gdal.Open(ortho_NIR)\n",
    "x.SetGeoTransform(g.GetGeoTransform())\n",
    "x.SetProjection(g.GetProjection())\n",
    "print('NIR bands :', dataset.count)\n",
    "nir_green = dataset.read(1)\n",
    "print(nir_green.shape)\n",
    "nir_red = dataset.read(2)\n",
    "nir_nir = dataset.read(3)\n",
    "nir_bands = [nir_green, nir_red, nir_nir, nir_ndvi]\n",
    "\n",
    "dataset = rasterio.open(ortho_rgb)\n",
    "x = gdal.Open(ortho_rgb)\n",
    "x.SetGeoTransform(g.GetGeoTransform())\n",
    "x.SetProjection(g.GetProjection())\n",
    "print('rgb bands :', dataset.count)\n",
    "rgb_red = x.GetRasterBand(1).ReadAsArray().astype(np.float32)\n",
    "print(rgb_red.shape)\n",
    "rgb_green = x.GetRasterBand(2).ReadAsArray().astype(np.float32)\n",
    "rgb_blue =  x.GetRasterBand(3).ReadAsArray().astype(np.float32)\n"
   ]
  },
  {
   "cell_type": "code",
   "execution_count": 3,
   "metadata": {},
   "outputs": [
    {
     "name": "stdout",
     "output_type": "stream",
     "text": [
      "---------------------\n"
     ]
    }
   ],
   "source": [
    "dsReprj_mspec= gdal.Warp(\"D:/cbr/VP2/VP2_SoilMapping/CodeOutput/demRepr_mspec.tif\", c, xRes = x.GetGeoTransform()[1], yRes= x.GetGeoTransform()[5])\n",
    "dsReprj_nir = gdal.Warp(\"D:/cbr/VP2/VP2_SoilMapping/CodeOutput/demRepr_nir.tif\", g, xRes = x.GetGeoTransform()[1], yRes= x.GetGeoTransform()[5])\n",
    "\n",
    "stack = []\n",
    "for i in range(1,4):\n",
    "    stack.append(x.GetRasterBand(i).ReadAsArray().astype(np.float32))\n",
    "\n",
    "for i in range(1,6):\n",
    "    stack.append(dsReprj_mspec.GetRasterBand(i).ReadAsArray().astype(np.float32))\n",
    "\n",
    "for i in range(1,5):\n",
    "    stack.append(dsReprj_nir.GetRasterBand(i).ReadAsArray().astype(np.float32))\n",
    "\n",
    "\n",
    "stack_data = np.array(stack, dtype=object)\n",
    "driver = gdal.GetDriverByName ( \"GTiff\" )\n",
    "DataSet = driver.Create(\"D:/cbr/VP2/VP2_SoilMapping/CodeOutput/output_file_channelFusion.tif\", stack_data[1].shape[1], stack_data[1].shape[0], len(stack_data), gdal.GDT_Float32)\n",
    "DataSet.SetGeoTransform(x.GetGeoTransform())\n",
    "DataSet.SetProjection(x.GetProjection())\n",
    "print('---------------------')\n",
    "for i, image in enumerate(stack_data, 1):\n",
    "    DataSet.GetRasterBand(i).WriteArray(image)\n",
    "    DataSet.GetRasterBand(i).SetNoDataValue(-9999.0)\n",
    "DataSet.FlushCache()"
   ]
  },
  {
   "cell_type": "code",
   "execution_count": 4,
   "metadata": {},
   "outputs": [
    {
     "name": "stdout",
     "output_type": "stream",
     "text": [
      "<class 'list'>\n",
      "0.0 , 254.0\n",
      "6442 , 7126\n",
      "0.0 , 254.0\n",
      "6442 , 7126\n",
      "0.0 , 255.0\n",
      "6442 , 7126\n",
      "0.0 , 254.0\n",
      "6442 , 7126\n",
      "0.0 , 255.0\n",
      "6442 , 7126\n",
      "0.0 , 248.0\n",
      "6442 , 7126\n",
      "0.0 , 243.0\n",
      "6442 , 7126\n",
      "0.0 , 255.0\n",
      "6442 , 7126\n",
      "0.0 , 255.0\n",
      "6440 , 7125\n",
      "0.0 , 202.0\n",
      "6440 , 7125\n",
      "0.0 , 205.0\n",
      "6440 , 7125\n",
      "0.0 , 255.0\n",
      "6440 , 7125\n"
     ]
    }
   ],
   "source": [
    "print(type(stack))\n",
    "for i, image in enumerate(stack_data, 1):\n",
    "    print(np.min(image), \",\", np.max(image))\n",
    "    print(image.shape[0], \",\", image.shape[1])\n"
   ]
  },
  {
   "cell_type": "code",
   "execution_count": 5,
   "metadata": {},
   "outputs": [
    {
     "name": "stdout",
     "output_type": "stream",
     "text": [
      "bands 4 rows 5675 columns 6279\n",
      "(5675, 6279, 4)\n",
      "bands 3 rows 6442 columns 7126\n",
      "(6442, 7126, 3)\n",
      "bands 5 rows 2135 columns 2362\n",
      "(2135, 2362, 5)\n"
     ]
    }
   ],
   "source": [
    "NIR = \"D:/cbr/VP2/VP2_SoilMapping/CodeOutput/output_file_nir.tif\"\n",
    "RGB = \"D:/cbr/VP2/VP2_SoilMapping/CodeOutput/output_file_rgb.tif\"\n",
    "MSPEC = \"D:/cbr/VP2/VP2_SoilMapping/CodeOutput/output_file_mspec.tif\"\n",
    "\n",
    "driverTiff = gdal.GetDriverByName('GTiff')\n",
    "NIR = gdal.Open(NIR)\n",
    "RGB = gdal.Open(RGB)\n",
    "MSPEC = gdal.Open(MSPEC)\n",
    "\n",
    "nbands = NIR.RasterCount\n",
    "band_data = []\n",
    "print('bands', NIR.RasterCount, 'rows', NIR.RasterYSize, 'columns', NIR.RasterXSize)\n",
    "for i in range(1, nbands+1):\n",
    "        band = NIR.GetRasterBand(i).ReadAsArray()\n",
    "        band_data.append(band)\n",
    "\n",
    "band_data = np.dstack(band_data)\n",
    "print(band_data.shape)\n",
    "\n",
    "nbands = RGB.RasterCount\n",
    "band_data = []\n",
    "print('bands', RGB.RasterCount, 'rows', RGB.RasterYSize, 'columns', RGB.RasterXSize)\n",
    "for i in range(1, nbands+1):\n",
    "        band = RGB.GetRasterBand(i).ReadAsArray()\n",
    "        band_data.append(band)\n",
    "\n",
    "band_data = np.dstack(band_data)\n",
    "print(band_data.shape)\n",
    "\n",
    "\n",
    "nbands = MSPEC.RasterCount\n",
    "band_data = []\n",
    "print('bands', MSPEC.RasterCount, 'rows', MSPEC.RasterYSize, 'columns', MSPEC.RasterXSize)\n",
    "for i in range(1, nbands+1):\n",
    "        band = MSPEC.GetRasterBand(i).ReadAsArray()\n",
    "        band_data.append(band)\n",
    "\n",
    "band_data = np.dstack(band_data)\n",
    "print(band_data.shape)"
   ]
  }
 ],
 "metadata": {
  "interpreter": {
   "hash": "7b3869acfdba34c56e2bedf91b21357bab8a3024fdb722ea37327488350c28b2"
  },
  "kernelspec": {
   "display_name": "Python 3.9.7 64-bit ('pygdal': conda)",
   "name": "python3"
  },
  "language_info": {
   "codemirror_mode": {
    "name": "ipython",
    "version": 3
   },
   "file_extension": ".py",
   "mimetype": "text/x-python",
   "name": "python",
   "nbconvert_exporter": "python",
   "pygments_lexer": "ipython3",
   "version": "3.9.7"
  },
  "orig_nbformat": 4
 },
 "nbformat": 4,
 "nbformat_minor": 2
}
