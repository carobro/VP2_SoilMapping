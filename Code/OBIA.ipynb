{
 "cells": [
  {
   "cell_type": "code",
   "execution_count": 1,
   "id": "3015b35a",
   "metadata": {},
   "outputs": [
    {
     "name": "stdout",
     "output_type": "stream",
     "text": [
      "D:/cbr/VP2/VP2_SoilMapping/CodeOutput/channelFusion_Wetzwil_test.tif\n",
      "bands 7 rows 8552 columns 10633\n",
      "(8552, 10633, 7)\n"
     ]
    }
   ],
   "source": [
    "%reset\n",
    "import numpy as np\n",
    "import pandas as pd\n",
    "from osgeo import gdal, osr, ogr\n",
    "from skimage import exposure\n",
    "from skimage.segmentation import quickshift, slic\n",
    "from sklearn.ensemble import RandomForestClassifier\n",
    "import time\n",
    "import os\n",
    "import matplotlib as mp\n",
    "import matplotlib.pyplot as plt\n",
    "import scipy\n",
    "from scipy import stats\n",
    "import pickle\n",
    "\n",
    "## Based on Tutorial from https://opensourceoptions.com/blog/python-geographic-object-based-image-analysis-geobia/\n",
    "\n",
    "#naip_fn = \"D:/cbr/VP2/CodeOutput/output_file_mspec.tif\"\n",
    "naip_fn = \"D:/cbr/VP2/VP2_SoilMapping/CodeOutput/channelFusion_Wetzwil_test.tif\"\n",
    "\n",
    "print(naip_fn)\n",
    "driverTiff = gdal.GetDriverByName('GTiff')\n",
    "naip_ds = gdal.Open(naip_fn)\n",
    "\n",
    "nbands = naip_ds.RasterCount\n",
    "band_data = []\n",
    "\n",
    "print('bands', naip_ds.RasterCount, 'rows', naip_ds.RasterYSize, 'columns', naip_ds.RasterXSize)\n",
    "for i in range(1, nbands+1):\n",
    "        band = naip_ds.GetRasterBand(i).ReadAsArray()\n",
    "        band_data.append(band)\n",
    "\n",
    "band_data = np.dstack(band_data)\n",
    "print(band_data.shape)\n",
    "\n"
   ]
  },
  {
   "cell_type": "code",
   "execution_count": 2,
   "id": "39e4696a",
   "metadata": {},
   "outputs": [
    {
     "name": "stdout",
     "output_type": "stream",
     "text": [
      "segments complete 201.48933911323547\n"
     ]
    }
   ],
   "source": [
    "# scale image values from 0.0 - 1.0\n",
    "#band_data[np.isnan(band_data)] = 0\n",
    "band_data[np.isnan(band_data)] = -9999.0\n",
    "img = exposure.rescale_intensity(band_data, in_range= (0.0, 225))\n",
    "\n",
    "# do segmentation multiple options with quickshift and slic\n",
    "seg_start = time.time()\n",
    "#segments = quickshift(img, ratio=0.8, convert2lab=False)\n",
    "# segments = quickshift(img, ratio=0.99, max_dist=5, convert2lab=False)\n",
    "segments = slic(img, n_segments=1000, compactness=3, start_label = 1, multichannel=\"TRUE\", convert2lab=False)\n",
    "print('segments complete', time.time() - seg_start)\n",
    "\n",
    "def segment_features(segment_pixels):\n",
    "    features = []\n",
    "    npixels, nbands = segment_pixels.shape\n",
    "    for b in range(nbands):\n",
    "        stats = scipy.stats.describe(segment_pixels[:, b])\n",
    "        band_stats = list(stats.minmax) + list(stats)[2:]\n",
    "        if npixels == 1:\n",
    "            band_stats[3] = 0.0\n",
    "        features += band_stats\n",
    "    return features"
   ]
  },
  {
   "cell_type": "code",
   "execution_count": 3,
   "id": "c3e17a25",
   "metadata": {},
   "outputs": [],
   "source": [
    "segment_ids = np.unique(segments)\n",
    "objects = []\n",
    "object_ids = []\n",
    "for id in segment_ids:\n",
    "    segment_pixels = img[segments == id]\n",
    "    object_features = segment_features(segment_pixels)\n",
    "    objects.append(object_features)\n",
    "    object_ids.append(id)"
   ]
  },
  {
   "cell_type": "code",
   "execution_count": 4,
   "id": "f6a01fa9",
   "metadata": {},
   "outputs": [
    {
     "name": "stdout",
     "output_type": "stream",
     "text": [
      "min 0 max 2 mean 1.0337234004274072e-06\n",
      "class values [1 2]\n",
      "Training segment for class 1 : 58\n",
      "Training segment for class 2 : 18\n"
     ]
    }
   ],
   "source": [
    "\n",
    "train_fn = \"D:/cbr/VP2/VP2_SoilMapping/Shapes/train2.shp\"\n",
    "train_ds = ogr.Open(train_fn)\n",
    "lyr = train_ds.GetLayer()\n",
    "driver = gdal.GetDriverByName('MEM')\n",
    "target_ds = driver.Create('', naip_ds.RasterXSize, naip_ds.RasterYSize, 1, gdal.GDT_UInt16)\n",
    "target_ds.SetGeoTransform(naip_ds.GetGeoTransform())\n",
    "target_ds.SetProjection(naip_ds.GetProjection())\n",
    "options = ['ATTRIBUTE=id']\n",
    "gdal.RasterizeLayer(target_ds, [1], lyr, options=options)\n",
    "data = target_ds.GetRasterBand(1).ReadAsArray()\n",
    "print('min', data.min(), 'max', data.max(), 'mean', data.mean())\n",
    "\n",
    "ground_truth = target_ds.GetRasterBand(1).ReadAsArray()\n",
    "\n",
    "classes = np.unique(ground_truth)[1:]\n",
    "print('class values', classes)\n",
    "\n",
    "segments_per_class = {}\n",
    "for klass in classes:\n",
    "    segments_of_class = segments[ground_truth == klass]\n",
    "    segments_per_class[klass] = set(segments_of_class)\n",
    "    print(\"Training segment for class\", klass, \":\", len(segments_of_class))\n",
    "\n",
    "intersection = set()\n",
    "accum = set()\n",
    "\n",
    "for class_segments in segments_per_class.values():\n",
    "    intersection |= accum.intersection(class_segments)\n",
    "    accum |= class_segments\n",
    "\n",
    "assert len(intersection) == 0, \"Segments represent multiple classes\"\n",
    "\n",
    "    \n"
   ]
  },
  {
   "cell_type": "code",
   "execution_count": 6,
   "id": "4161f7bd",
   "metadata": {},
   "outputs": [
    {
     "name": "stdout",
     "output_type": "stream",
     "text": [
      "Training objects for class 1 : 56\n",
      "Training objects for class 2 : 15\n",
      "Fitting Random Forest Classifier\n",
      "Predicting Classification\n",
      "Prediction applied to numpy array\n",
      "Saving classification to raster\n",
      "Done\n"
     ]
    }
   ],
   "source": [
    "train_img = np.copy(segments)\n",
    "threshold = train_img.max() + 1\n",
    "\n",
    "for klass in classes:\n",
    "    class_label = threshold + klass\n",
    "    for segment_id in segments_per_class[klass]:\n",
    "        train_img[train_img == segment_id] = class_label\n",
    "\n",
    "train_img[train_img <= threshold] = 0\n",
    "train_img[train_img > threshold] -= threshold\n",
    "\n",
    "training_objects = []\n",
    "training_labels = []\n",
    "\n",
    "for klass in classes:\n",
    "    class_train_object = [v for i,v in enumerate(objects) if segment_ids[i] in segments_per_class[klass]]\n",
    "    training_labels += [klass] *len(class_train_object)\n",
    "    training_objects += class_train_object\n",
    "    print('Training objects for class', klass, ':', len(class_train_object))\n",
    "\n",
    "classifier = RandomForestClassifier(n_jobs=1)\n",
    "classifier.fit(training_objects, training_labels)\n",
    "importance = classifier.feature_importances_\n",
    "\n",
    "#feature_names = [1,2,3,4,5,6,7,8,9,10,11,12,13,14,15,16,17,18,19,20,21,22,23,24,25,26,27,28,29,30,31,32,33,34,35,36]\n",
    "#std = np.std([tree.feature_importances_ for tree in classifier.estimators_], axis=0)\n",
    "#forest_importances = pd.Series(importance, index=feature_names)\n",
    "\n",
    "#fig, ax = plt.subplots()\n",
    "#forest_importances.plot.bar(yerr=std, ax=ax)\n",
    "#ax.set_title(\"Feature importances using MDI\")\n",
    "#ax.set_ylabel(\"Mean decrease in impurity\")\n",
    "#fig.tight_layout()\n",
    "\n",
    "filename = 'classifier_prediction_model.sav'\n",
    "pickle.dump(classifier, open(filename, 'wb'))\n",
    "print('Fitting Random Forest Classifier')\n",
    "predicted = classifier.predict(objects)\n",
    "print('Predicting Classification')\n",
    "\n",
    "clf = np.copy(segments)\n",
    "for segment_id, klass in zip(segment_ids, predicted):\n",
    "    clf[clf == segment_id] = klass\n",
    "\n",
    "print('Prediction applied to numpy array')\n",
    "\n",
    "mask = np.sum(img, axis=2)\n",
    "mask[mask> 0] = 1.0\n",
    "mask[mask == 0] = -1.0\n",
    "\n",
    "clf = np.multiply(clf, mask)\n",
    "clf[clf < 0] = -9999.0\n",
    "\n",
    "print('Saving classification to raster')\n",
    "def CreateGeoTiff(Name, Array, driver, GeoT, Projection, DataType):\n",
    "    DataSet = driver.Create(Name, naip_ds.RasterXSize, naip_ds.RasterYSize, 1, DataType)\n",
    "    DataSet.SetGeoTransform(GeoT)\n",
    "    DataSet.SetProjection(Projection)\n",
    "    DataSet.GetRasterBand(1).SetNoDataValue(-9999.0)\n",
    "    DataSet.GetRasterBand(1).WriteArray(Array)\n",
    "    DataSet.FlushCache()\n",
    "    return Name\n",
    "\n",
    "CreateGeoTiff('D:/cbr/VP2/VP2_SoilMapping/Processed/classified_Wetzwil_mitDEM.tif', clf, gdal.GetDriverByName ( \"GTiff\" ), naip_ds.GetGeoTransform(), naip_ds.GetProjection(), gdal.GDT_Float32)\n",
    "print('Done')\n",
    "\n",
    "    "
   ]
  },
  {
   "cell_type": "code",
   "execution_count": 12,
   "metadata": {},
   "outputs": [
    {
     "name": "stderr",
     "output_type": "stream",
     "text": [
      "C:\\Users\\st1154414\\.conda\\envs\\pygdal\\lib\\site-packages\\PIL\\Image.py:2911: DecompressionBombWarning: Image size (90933416 pixels) exceeds limit of 89478485 pixels, could be decompression bomb DOS attack.\n",
      "  warnings.warn(\n",
      "C:\\Users\\st1154414\\.conda\\envs\\pygdal\\lib\\site-packages\\PIL\\Image.py:2911: DecompressionBombWarning: Image size (90914232 pixels) exceeds limit of 89478485 pixels, could be decompression bomb DOS attack.\n",
      "  warnings.warn(\n"
     ]
    },
    {
     "data": {
      "text/plain": [
       "<function matplotlib.pyplot.show(close=None, block=None)>"
      ]
     },
     "execution_count": 12,
     "metadata": {},
     "output_type": "execute_result"
    },
    {
     "data": {
      "image/png": "[encoded data removed]",
      "text/plain": [
       "<Figure size 432x288 with 1 Axes>"
      ]
     },
     "metadata": {
      "needs_background": "light"
     },
     "output_type": "display_data"
    }
   ],
   "source": [
    "import matplotlib as mp\n",
    "import matplotlib.pyplot as plt\n",
    "\n",
    "\n",
    "\n",
    "\n",
    "img2=plt.imread('D:/cbr/VP2/VP2_SoilMapping/Processed/classified_Wetzwil_mitDEM.tif')\n",
    "img=plt.imread('D:/cbr/VP2/VP2_SoilMapping/Processed/classified_Wetzwil_gross.tif')\n",
    "\n",
    "\n",
    "fig, ax = plt.subplots(1, 2, figsize=(17,12))\n",
    "    ax[0].imshow(img2[:, :, 0], cmap=plt.cm.coolwarm))\n",
    "    ax[1].imshow(img[:, :, 0], cmap=plt.cm.coolwarm)\n",
    "\n",
    "\n",
    "fig, ax = plt.subplots()\n",
    "\n",
    "ax.imshow(img2[:, :, 0], cmap=plt.cm.coolwarm)\n",
    "plt.show"
   ]
  }
 ],
 "metadata": {
  "interpreter": {
   "hash": "7b3869acfdba34c56e2bedf91b21357bab8a3024fdb722ea37327488350c28b2"
  },
  "kernelspec": {
   "display_name": "Python 3.9.7 64-bit ('pygdal': conda)",
   "name": "python3"
  },
  "language_info": {
   "codemirror_mode": {
    "name": "ipython",
    "version": 3
   },
   "file_extension": ".py",
   "mimetype": "text/x-python",
   "name": "python",
   "nbconvert_exporter": "python",
   "pygments_lexer": "ipython3",
   "version": "3.9.7"
  }
 },
 "nbformat": 4,
 "nbformat_minor": 5
}
