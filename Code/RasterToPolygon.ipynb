{
 "cells": [
  {
   "cell_type": "code",
   "execution_count": 6,
   "metadata": {},
   "outputs": [
    {
     "name": "stdout",
     "output_type": "stream",
     "text": [
      "                                            geometry  raster_val\n",
      "0  POLYGON ((2652012.080 1230016.603, 2652014.866...         2.0\n",
      "1  POLYGON ((2651954.111 1229939.986, 2651955.235...         2.0\n",
      "2  POLYGON ((2652181.447 1230185.881, 2652181.447...     -9999.0\n",
      "3  POLYGON ((2651764.971 1230185.881, 2651764.971...     -9999.0\n",
      "4  POLYGON ((2651803.123 1229808.141, 2651803.303...         2.0\n",
      "5  POLYGON ((2651764.971 1229825.666, 2651764.971...     -9999.0\n",
      "6  POLYGON ((2652180.728 1230185.881, 2652181.447...         1.0\n",
      "7  POLYGON ((2652424.017 1229883.725, 2652424.062...     -9999.0\n"
     ]
    }
   ],
   "source": [
    "import rasterio\n",
    "from rasterio.features import shapes\n",
    "import geopandas as gp\n",
    "from shapely.geometry import Point\n",
    "\n",
    "outpoly = \"D:/cbr/VP2/VP2_SoilMapping/polygone.shp\"\n",
    "naip_fn = 'D:/cbr/VP2/VP2_SoilMapping/Processed/Wetzwil_Ortho/prediction2/Prediction.tif'\n",
    "\n",
    "mask = None\n",
    "with rasterio.Env():\n",
    "    with rasterio.open(naip_fn) as src:\n",
    "        image = src.read(1) # first band\n",
    "        results = (\n",
    "        {'properties': {'raster_val': v}, 'geometry': s}\n",
    "        for i, (s, v) \n",
    "        in enumerate(\n",
    "            shapes(image, mask=mask, transform=src.transform)))\n",
    "\n",
    "\n",
    "geoms = list(results)\n",
    " # first feature\n",
    "#print(geoms[0])\n",
    "\n",
    "gpd_polygonized_raster  = gp.GeoDataFrame.from_features(geoms)\n",
    "print(gpd_polygonized_raster)\n",
    "\n",
    "#gpd_polygonized_raster['geometry'] = gpd_polygonized_raster.apply(lambda x: Point((float(x.lon), float(x.lat))), axis=1)\n",
    "gpd_polygonized_raster.to_file(outpoly, driver='ESRI Shapefile')"
   ]
  },
  {
   "cell_type": "code",
   "execution_count": 26,
   "metadata": {},
   "outputs": [],
   "source": [
    "from osgeo import gdal, ogr, os\n",
    "\n",
    "outpoly = \"D:/cbr/VP2/VP2_SoilMapping/polygone.shp\"\n",
    "naip_fn = 'D:/cbr/VP2/VP2_SoilMapping/Processed/Wetzwil_Ortho/prediction2/Prediction.tif'\n",
    "\n",
    "sourceRaster = gdal.Open(naip_fn)\n",
    "band = sourceRaster.GetRasterBand(1)\n",
    "bandArray = band.ReadAsArray()\n",
    "driver = ogr.GetDriverByName(\"ESRI Shapefile\")\n",
    "if os.path.exists(outpoly):\n",
    "    driver.DeleteDataSource(outpoly)\n",
    "outDatasource = driver.CreateDataSource(outpoly)\n",
    "outLayer = outDatasource.CreateLayer(\"polygonized\", srs=None)\n",
    "newField = ogr.FieldDefn('MYFLD')\n",
    "outLayer.CreateField(newField)\n",
    "gdal.Polygonize(band, None, outLayer, 0, [], callback=None )\n",
    "outDatasource.Destroy()\n",
    "sourceRaster = None\n"
   ]
  }
 ],
 "metadata": {
  "interpreter": {
   "hash": "7b3869acfdba34c56e2bedf91b21357bab8a3024fdb722ea37327488350c28b2"
  },
  "kernelspec": {
   "display_name": "Python 3.9.7 64-bit ('pygdal': conda)",
   "language": "python",
   "name": "python3"
  },
  "language_info": {
   "codemirror_mode": {
    "name": "ipython",
    "version": 3
   },
   "file_extension": ".py",
   "mimetype": "text/x-python",
   "name": "python",
   "nbconvert_exporter": "python",
   "pygments_lexer": "ipython3",
   "version": "3.9.7"
  },
  "orig_nbformat": 4
 },
 "nbformat": 4,
 "nbformat_minor": 2
}
