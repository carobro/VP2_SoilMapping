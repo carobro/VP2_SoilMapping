{
 "cells": [
  {
   "cell_type": "code",
   "execution_count": 3,
   "metadata": {},
   "outputs": [],
   "source": [
    "import matplotlib.pyplot as plt\n",
    "import rasterio \n",
    "from rasterio.plot import plotting_extent, show\n",
    "from rasterio.merge import merge\n",
    "import geopandas as gpd\n",
    "from osgeo import gdal\n",
    "import numpy as np\n",
    "from skimage import io\n",
    "\n",
    "\n",
    "def data_fusion(ortho_nir, ortho_rgb, ortho_mspec, outputpath):\n",
    "    \n",
    "    ortho_NIR = ortho_nir\n",
    "    ortho_rgb = ortho_rgb\n",
    "    ortho_mspec = ortho_mspec\n",
    "    \n",
    "    g = gdal.Open(ortho_NIR)\n",
    "    c = gdal.Open(ortho_mspec)\n",
    "    x = gdal.Open(ortho_rgb)\n",
    "    \n",
    "    dsReprj_mspec= gdal.Warp(\"D:/cbr/VP2/VP2_SoilMapping/CodeOutput/demRepr_mspec_2.tif\", c, xRes = x.GetGeoTransform()[1], yRes= x.GetGeoTransform()[5])\n",
    "    dsReprj_nir = gdal.Warp(\"D:/cbr/VP2/VP2_SoilMapping/CodeOutput/demRepr_nir_2.tif\", g, xRes = x.GetGeoTransform()[1], yRes= x.GetGeoTransform()[5])\n",
    "    dsReprj_rgb = gdal.Warp(\"D:/cbr/VP2/VP2_SoilMapping/CodeOutput/demRepr_rgb_2.tif\", x, xRes = x.GetGeoTransform()[1], yRes= x.GetGeoTransform()[5])\n",
    "    \n",
    "    stack = []\n",
    "    \n",
    "    rgb_red = dsReprj_rgb.GetRasterBand(1).ReadAsArray().astype(np.float32)\n",
    "    rgb_green = dsReprj_rgb.GetRasterBand(2).ReadAsArray().astype(np.float32)\n",
    "    rgb_blue =  dsReprj_rgb.GetRasterBand(3).ReadAsArray().astype(np.float32)\n",
    "    stack.append(rgb_red)\n",
    "    stack.append(rgb_green)\n",
    "    stack.append(rgb_blue)\n",
    "    \n",
    "    mspec_rededge = dsReprj_mspec.GetRasterBand(3).ReadAsArray().astype(np.float32) \n",
    "    stack.append(mspec_rededge)\n",
    "   \n",
    "    b3 = dsReprj_nir.GetRasterBand(2).ReadAsArray().astype(np.float32)\n",
    "    b4 = dsReprj_nir.GetRasterBand(3).ReadAsArray().astype(np.float32)\n",
    "    nir_ndvi = (b4 - b3)/(b4 + b3)\n",
    "    nir_nir = dsReprj_nir.GetRasterBand(3).ReadAsArray().astype(np.float32)\n",
    "    stack.append(nir_nir)\n",
    "    stack.append(nir_ndvi)\n",
    "    \n",
    "    #print(stack)\n",
    "    \n",
    "    stack_data = np.array(stack, dtype=object)\n",
    "    print(stack_data[1].shape)\n",
    "    print(stack_data[1].shape[1])\n",
    "    print(stack_data[1].shape[0])\n",
    "    driver = gdal.GetDriverByName ( \"GTiff\" )\n",
    "    DataSet = driver.Create(outputpath, stack_data[1].shape[1], stack_data[1].shape[0], len(stack_data), gdal.GDT_Float32)\n",
    "    DataSet.SetGeoTransform(x.GetGeoTransform())\n",
    "    DataSet.SetProjection(x.GetProjection())\n",
    "    print('---------------------')\n",
    "    for i, image in enumerate(stack_data, 1):\n",
    "        DataSet.GetRasterBand(i).WriteArray(image)\n",
    "        DataSet.GetRasterBand(i).SetNoDataValue(-9999.0)\n",
    "    DataSet.FlushCache()"
   ]
  },
  {
   "cell_type": "code",
   "execution_count": 4,
   "metadata": {},
   "outputs": [
    {
     "name": "stderr",
     "output_type": "stream",
     "text": [
      "C:\\Users\\ST1154~1\\AppData\\Local\\Temp/ipykernel_2852/1734432870.py:39: RuntimeWarning: invalid value encountered in true_divide\n",
      "  nir_ndvi = (b4 - b3)/(b4 + b3)\n"
     ]
    },
    {
     "name": "stdout",
     "output_type": "stream",
     "text": [
      "(5808, 6668)\n",
      "6668\n",
      "5808\n",
      "---------------------\n"
     ]
    }
   ],
   "source": [
    "#ortho_NIR = \"D:/cbr/VP2/VP2_SoilMapping/Processed/Wetzwil_Ortho/nir.tif\"\n",
    "#ortho_rgb = \"D:/cbr/VP2/VP2_SoilMapping/Processed/Wetzwil_Ortho/rgb.tif\"\n",
    "#ortho_mspec = \"D:/cbr/VP2/VP2_SoilMapping/Processed/Wetzwil_Ortho/mspec.tif\"\n",
    "#outputpath = \"D:/cbr/VP2/VP2_SoilMapping/CodeOutput/output_file_channelFusion_TEST.tif\"\n",
    "\n",
    "ortho_NIR = \"D:/cbr/VP2/VP2_SoilMapping/Processed/Wetzwil_Ortho/nir_2.tif\"\n",
    "ortho_rgb = \"D:/cbr/VP2/VP2_SoilMapping/Processed/Wetzwil_Ortho/rgb_2.tif\"\n",
    "ortho_mspec = \"D:/cbr/VP2/VP2_SoilMapping/Processed/Wetzwil_Ortho/mspec_2.tif\"\n",
    "outputpath = \"D:/cbr/VP2/VP2_SoilMapping/CodeOutput/output_file_channelFusion_5.tif\"\n",
    "\n",
    "data_fusion(ortho_NIR, ortho_rgb, ortho_mspec, outputpath)"
   ]
  }
 ],
 "metadata": {
  "interpreter": {
   "hash": "7b3869acfdba34c56e2bedf91b21357bab8a3024fdb722ea37327488350c28b2"
  },
  "kernelspec": {
   "display_name": "Python 3.9.7 64-bit ('pygdal': conda)",
   "name": "python3"
  },
  "language_info": {
   "codemirror_mode": {
    "name": "ipython",
    "version": 3
   },
   "file_extension": ".py",
   "mimetype": "text/x-python",
   "name": "python",
   "nbconvert_exporter": "python",
   "pygments_lexer": "ipython3",
   "version": "3.9.7"
  },
  "orig_nbformat": 4
 },
 "nbformat": 4,
 "nbformat_minor": 2
}
