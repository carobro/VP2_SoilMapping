{
 "cells": [
  {
   "cell_type": "code",
   "execution_count": 5,
   "metadata": {},
   "outputs": [
    {
     "name": "stdout",
     "output_type": "stream",
     "text": [
      "Nothing done.\n"
     ]
    }
   ],
   "source": [
    "%reset\n",
    "from osgeo import gdal\n",
    "import numpy as np\n",
    " \n",
    "def data_fusion(ortho_NIR, ortho_rgb, ortho_mspec, outputpath):\n",
    "\n",
    "    #open the images  \n",
    "    g = gdal.Open(ortho_NIR)\n",
    "    c = gdal.Open(ortho_mspec)\n",
    "    x = gdal.Open(ortho_rgb)\n",
    "    d = gdal.Open(dem)\n",
    "    \n",
    "    # reporject the image to the same\n",
    "    #dsReprj_mspec= gdal.Warp(\"D:/cbr/VP2/VP2_SoilMapping/CodeOutput/demRepr_mspec_5.tif\", c, xRes = x.GetGeoTransform()[1], yRes= x.GetGeoTransform()[5])\n",
    "    dsReprj_nir = gdal.Warp(\"D:/cbr/VP2/VP2_SoilMapping/CodeOutput/demRepr_nir_5.tif\", g, xRes = x.GetGeoTransform()[1], yRes= x.GetGeoTransform()[5])\n",
    "    dsReprj_dem = gdal.Warp(\"D:/cbr/VP2/VP2_SoilMapping/CodeOutput/demRepr_dem_5.tif\", d, xRes = x.GetGeoTransform()[1], yRes= x.GetGeoTransform()[5])\n",
    "    dsReprj_rgb = gdal.Warp(\"D:/cbr/VP2/VP2_SoilMapping/CodeOutput/demRepr_rgb_5.tif\", x, xRes = x.GetGeoTransform()[1], yRes= x.GetGeoTransform()[5])\n",
    "    \n",
    "    stack = []\n",
    "    \n",
    "    # retrieve the Bands you want and append them to the stack\n",
    "    # RGB\n",
    "    rgb_red = dsReprj_rgb.GetRasterBand(1).ReadAsArray().astype(np.float32)\n",
    "    rgb_green = dsReprj_rgb.GetRasterBand(2).ReadAsArray().astype(np.float32)\n",
    "    rgb_blue =  dsReprj_rgb.GetRasterBand(3).ReadAsArray().astype(np.float32)\n",
    "    stack.append(rgb_red)\n",
    "    stack.append(rgb_green)\n",
    "    stack.append(rgb_blue)\n",
    "    \n",
    "    # Red Edge\n",
    "    #mspec_rededge = dsReprj_mspec.GetRasterBand(3).ReadAsArray().astype(np.float32) \n",
    "    #stack.append(mspec_rededge)\n",
    "    \n",
    "    # NIR and NDVI (calculated from NIR and red)\n",
    "    b3 = dsReprj_nir.GetRasterBand(1).ReadAsArray().astype(np.float32)\n",
    "    b4 = dsReprj_nir.GetRasterBand(4).ReadAsArray().astype(np.float32)\n",
    "    nir_ndvi = (b4 - b3)/(b4 + b3)\n",
    "    nir_nir = dsReprj_nir.GetRasterBand(4).ReadAsArray().astype(np.float32)\n",
    "    stack.append(nir_nir)\n",
    "    stack.append(nir_ndvi)\n",
    "    \n",
    "    # DEM\n",
    "    dem_chanel = dsReprj_dem.GetRasterBand(1).ReadAsArray().astype(np.float32)\n",
    "    stack.append(dem_chanel)\n",
    "    \n",
    "    print(\"Channel count\", len(stack))\n",
    "    stack_data = stack\n",
    "    #stack_data = np.asarray(stack, dtype=object)\n",
    "    #stack_data = np.array(stack, dtype=object)\n",
    "\n",
    "    # check the size of the shape\n",
    "    yvalue = 0\n",
    "    xvalue = 0\n",
    "    for i in stack_data:\n",
    "        if yvalue < i.shape[0]:\n",
    "            yvalue = i.shape[0]\n",
    "\n",
    "        if xvalue < i.shape[1]:\n",
    "            xvalue = i.shape[1]\n",
    "    \n",
    "    print(\"Maximum Value: \", xvalue, \"Minimum Value: \", yvalue)\n",
    "   \n",
    "    # save the new created stack as a an image with n-Layers\n",
    "    driver = gdal.GetDriverByName ( \"GTiff\" )\n",
    "    DataSet = driver.Create(outputpath, xvalue, yvalue, len(stack_data), gdal.GDT_Float32)\n",
    "    DataSet.SetGeoTransform(x.GetGeoTransform())\n",
    "    DataSet.SetProjection(x.GetProjection())\n",
    "    for i, image in enumerate(stack_data, 1):\n",
    "        DataSet.GetRasterBand(i).WriteArray(image)\n",
    "        DataSet.GetRasterBand(i).SetNoDataValue(-9999.0)\n",
    "    DataSet.FlushCache()\n",
    "\n",
    "    print(\"Finished     .tiff file created\")\n",
    "    return None"
   ]
  },
  {
   "cell_type": "code",
   "execution_count": 6,
   "metadata": {},
   "outputs": [
    {
     "name": "stderr",
     "output_type": "stream",
     "text": [
      "C:\\Users\\ST1154~1\\AppData\\Local\\Temp/ipykernel_14412/1048978701.py:35: RuntimeWarning: invalid value encountered in true_divide\n",
      "  nir_ndvi = (b4 - b3)/(b4 + b3)\n"
     ]
    },
    {
     "name": "stdout",
     "output_type": "stream",
     "text": [
      "Channel count 6\n",
      "Maximum Value:  20398 Minimum Value:  10792\n",
      "Finished     .tiff file created\n"
     ]
    }
   ],
   "source": [
    "#ortho_NIR = \"D:/cbr/VP2/VP2_SoilMapping/Processed/Wetzwil_Ortho/nir_4.tif\"\n",
    "#ortho_rgb = \"D:/cbr/VP2/VP2_SoilMapping/Processed/Wetzwil_Ortho/rgb_4.tif\"\n",
    "#ortho_mspec = \"D:/cbr/VP2/VP2_SoilMapping/Processed/Wetzwil_Ortho/mspec_4.tif\"\n",
    "#dem = \"D:/cbr/VP2/VP2_SoilMapping/Processed/Wetzwil_Ortho/DEM_gross.tif\"\n",
    "#outputpath = \"D:/cbr/VP2/VP2_SoilMapping/Processed/Wetzwil_Ortho/verschiedene Stacks/Stack_rgb_dem_ndvi_nir.tif\"\n",
    "\n",
    "#ortho_NIR   = \"D:/cbr/VP2/VP2_SoilMapping/Processed/Wetzwil_Ortho/prediction/Wetzwil_pred_nir3.tif\"\n",
    "#ortho_rgb   = \"D:/cbr/VP2/VP2_SoilMapping/Processed/Wetzwil_Ortho/prediction/Wetzwil_pred_rgb3.tif\"\n",
    "#ortho_mspec = \"D:/cbr/VP2/VP2_SoilMapping/Processed/Wetzwil_Ortho/prediction/Wetzwil_pred_mspec3.tif\"\n",
    "#dem         = \"D:/cbr/VP2/VP2_SoilMapping/Processed/Wetzwil_Ortho/prediction/Wetzwil_pred_dem3.tif\"\n",
    "#outputpath  = \"D:/cbr/VP2/VP2_SoilMapping/Processed/Wetzwil_Ortho/prediction/Stack_rgb_6Channels.tif\"\n",
    "##outputpath2 = \"D:/cbr/VP2/VP2_SoilMapping/Processed/Wetzwil_Ortho/prediction/Stack_2.tif\"\n",
    "\n",
    "ortho_NIR   = \"D:/cbr/VP2/VP2_SoilMapping/Processed/Gempelen/Planet_rgb_nir.tif\"\n",
    "ortho_rgb   = \"D:/cbr/VP2/VP2_SoilMapping/Processed/Gempelen/rgb.tif\"\n",
    "ortho_mspec = \"D:/cbr/VP2/VP2_SoilMapping/Processed/Gempelen/Planet_rgb_nir.tif\"\n",
    "dem         = \"D:/cbr/VP2/VP2_SoilMapping/Processed/Gempelen/dem.tif\"\n",
    "outputpath  = \"D:/cbr/VP2/VP2_SoilMapping/Processed/Gempelen/Stack_6Channels.tif\"\n",
    "\n",
    "data_fusion(ortho_NIR, ortho_rgb, ortho_mspec, outputpath)"
   ]
  },
  {
   "cell_type": "code",
   "execution_count": null,
   "metadata": {},
   "outputs": [],
   "source": []
  }
 ],
 "metadata": {
  "interpreter": {
   "hash": "7b3869acfdba34c56e2bedf91b21357bab8a3024fdb722ea37327488350c28b2"
  },
  "kernelspec": {
   "display_name": "Python 3.9.7 64-bit ('pygdal': conda)",
   "name": "python3"
  },
  "language_info": {
   "codemirror_mode": {
    "name": "ipython",
    "version": 3
   },
   "file_extension": ".py",
   "mimetype": "text/x-python",
   "name": "python",
   "nbconvert_exporter": "python",
   "pygments_lexer": "ipython3",
   "version": "3.9.7"
  },
  "orig_nbformat": 4
 },
 "nbformat": 4,
 "nbformat_minor": 2
}
