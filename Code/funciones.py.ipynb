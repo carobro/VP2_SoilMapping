{
 "cells": [
  {
   "cell_type": "code",
   "execution_count": null,
   "id": "a4539b81",
   "metadata": {},
   "outputs": [],
   "source": [
    "import matplotlib.pyplot as plt\n",
    "from PIL import Image\n",
    "import numpy as np\n",
    "\n",
    "def abririmagen(TIF,indice):   \n",
    "    im = Image.open('LC80090652013197LGN00/'+TIF)\n",
    "    imarray = np.asarray(im)\n",
    "    imrecortado = imarray[5000:6000,1000:2000]\n",
    "    im.close()\n",
    "    return imrecortado\n",
    "    \n",
    "    \n",
    "def grafico(raster,ndvi,cursorx,cursory):\n",
    "    \n",
    "    fig = plt.figure()    \n",
    "    fig, (ax1, ax2) = plt.subplots(1, 2)\n",
    "    \n",
    "    ax1.set_title('NDVI Map')\n",
    "    ax1.plot(cursorx,cursory,'o',markersize=10,c='Yellow')\n",
    "    ax1.imshow(ndvi)\n",
    "    \n",
    "    def prompixel(x,y,raster):\n",
    "        return raster[y-1:y+2,x-1:x+2].mean()\n",
    "\n",
    "    ax2.bar(([0,1,2,3,4,5,6,7,8,9,10]), \n",
    "            ([\n",
    "                prompixel(cursorx,cursory,raster[:,:,0]), \n",
    "                prompixel(cursorx,cursory,raster[:,:,1]),\n",
    "                prompixel(cursorx,cursory,raster[:,:,2]),\n",
    "                prompixel(cursorx,cursory,raster[:,:,3]),\n",
    "                prompixel(cursorx,cursory,raster[:,:,4]),\n",
    "                prompixel(cursorx,cursory,raster[:,:,5]),\n",
    "                prompixel(cursorx,cursory,raster[:,:,6]),\n",
    "                prompixel(cursorx,cursory,raster[:,:,7]),\n",
    "                prompixel(cursorx,cursory,raster[:,:,8]),\n",
    "                prompixel(cursorx,cursory,raster[:,:,9]),\n",
    "                prompixel(cursorx,cursory,raster[:,:,10])\n",
    "            ]),log=True)\n",
    "    ax2.set_ylim(0,45000)\n",
    "    fig.set_size_inches(12,6)\n",
    "    \n",
    "    return plt.show()"
   ]
  }
 ],
 "metadata": {
  "kernelspec": {
   "display_name": "pygdal",
   "language": "python",
   "name": "pygdal"
  },
  "language_info": {
   "codemirror_mode": {
    "name": "ipython",
    "version": 3
   },
   "file_extension": ".py",
   "mimetype": "text/x-python",
   "name": "python",
   "nbconvert_exporter": "python",
   "pygments_lexer": "ipython3",
   "version": "3.9.7"
  }
 },
 "nbformat": 4,
 "nbformat_minor": 5
}
