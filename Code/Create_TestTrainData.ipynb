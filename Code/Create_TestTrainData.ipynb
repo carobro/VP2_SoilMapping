{
 "cells": [
  {
   "cell_type": "code",
   "execution_count": 3,
   "metadata": {},
   "outputs": [
    {
     "name": "stdout",
     "output_type": "stream",
     "text": [
      "class names ['Torf' 'Wiese' 'Andere' 'Vermutung']\n",
      "class_ids [1 2 3 4]\n",
      "without ids    id   Typ                  geometry\n",
      "0   1  Torf  POINT (7.05011 47.01298)\n",
      "1   2  Torf  POINT (7.05253 47.01258)\n",
      "2   3  Torf  POINT (7.05332 47.01124)\n",
      "3   4  Torf  POINT (7.04560 47.01264)\n",
      "4   5  Torf  POINT (7.04646 47.01307)\n",
      "with ids    id   Typ                  geometry\n",
      "0   1  Torf  POINT (7.05011 47.01298)\n",
      "1   1  Torf  POINT (7.05253 47.01258)\n",
      "2   1  Torf  POINT (7.05332 47.01124)\n",
      "3   1  Torf  POINT (7.04560 47.01264)\n",
      "4   1  Torf  POINT (7.04646 47.01307)\n",
      "gdf shape (18, 3) training shape (13, 3) test shape (5, 3)\n"
     ]
    }
   ],
   "source": [
    "import numpy as np\n",
    "from osgeo import gdal\n",
    "import pandas as pd\n",
    "import geopandas as gpd\n",
    "\n",
    "## Based on tutorial from https://opensourceoptions.com/blog/python-geographic-object-based-image-analysis-geobia/\n",
    "\n",
    "# Open the Test- and Training data\n",
    "gdf = gpd.read_file(\"D:/cbr/VP2/VP2_SoilMapping/Shapes/brache_points.shp\")\n",
    "class_names = gdf['Typ'].unique()\n",
    "print('class names' , class_names)\n",
    "# assign per class one ID\n",
    "class_ids = np.arange(class_names.size) + 1\n",
    "print('class_ids', class_ids)\n",
    "df = pd.DataFrame({'typ': class_names, 'id': class_ids})\n",
    "df.to_csv(\"D:/cbr/VP2/VP2_SoilMapping/Shapes/class_lookup.csv\")\n",
    "print('without ids', gdf.head())\n",
    "gdf['id'] = gdf['Typ'].map(dict(zip(class_names, class_ids)))\n",
    "print('with ids', gdf.head())\n",
    "\n",
    "# split the data in test and training data and save them separatly\n",
    "gdf_train = gdf.sample(frac=0.7)\n",
    "gdf_test = gdf.drop(gdf_train.index)\n",
    "print('gdf shape', gdf.shape,'training shape', gdf_train.shape,'test shape', gdf_test.shape)\n",
    "\n",
    "gdf_train.to_file(\"D:/cbr/VP2/VP2_SoilMapping/Shapes/brache_train_klassiert.shp\")\n",
    "gdf_test.to_file(\"D:/cbr/VP2/VP2_SoilMapping/Shapes/brache_klassiert.shp\")"
   ]
  }
 ],
 "metadata": {
  "interpreter": {
   "hash": "7b3869acfdba34c56e2bedf91b21357bab8a3024fdb722ea37327488350c28b2"
  },
  "kernelspec": {
   "display_name": "Python 3.9.7 64-bit ('pygdal': conda)",
   "name": "python3"
  },
  "language_info": {
   "codemirror_mode": {
    "name": "ipython",
    "version": 3
   },
   "file_extension": ".py",
   "mimetype": "text/x-python",
   "name": "python",
   "nbconvert_exporter": "python",
   "pygments_lexer": "ipython3",
   "version": "3.9.7"
  }
 },
 "nbformat": 4,
 "nbformat_minor": 2
}
