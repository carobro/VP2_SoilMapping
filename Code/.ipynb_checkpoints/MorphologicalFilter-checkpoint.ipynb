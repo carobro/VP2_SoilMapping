{
 "cells": [
  {
   "cell_type": "code",
   "execution_count": 1,
   "id": "950a6503",
   "metadata": {},
   "outputs": [],
   "source": [
    "import cv2\n",
    "import numpy as np\n",
    "image = cv2.imread('D:/Sursee_2020/2020-10-22_adi_Wetzwil-RGB/img/DSC01552.JPG')"
   ]
  },
  {
   "cell_type": "code",
   "execution_count": 2,
   "id": "d8e23df8",
   "metadata": {},
   "outputs": [
    {
     "data": {
      "text/plain": [
       "-1"
      ]
     },
     "execution_count": 2,
     "metadata": {},
     "output_type": "execute_result"
    }
   ],
   "source": [
    "gray = cv2.cvtColor(image, cv2.COLOR_BGR2GRAY)\n",
    "ima = cv2.resize(image, (960, 540)) \n",
    "cv2.imshow(\"Original\", ima)\n",
    "cv2.waitKey(0)\n",
    "ima = cv2.resize(gray, (960, 540)) \n",
    "cv2.imshow(\"Gray\", ima)\n",
    "cv2.waitKey(0)\n"
   ]
  },
  {
   "cell_type": "code",
   "execution_count": 3,
   "id": "9109299d",
   "metadata": {},
   "outputs": [],
   "source": [
    "gray = cv2.cvtColor(image, cv2.COLOR_BGR2GRAY)\n",
    "for i in range(0, 3):\n",
    "    dilated = cv2.dilate(gray.copy(), None, iterations=i + 1)\n",
    "    ima = cv2.resize(dilated, (960, 540)) \n",
    "    cv2.imshow(\"Dilated {} times\".format(i + 1), ima)\n",
    "    cv2.waitKey(0)"
   ]
  },
  {
   "cell_type": "code",
   "execution_count": 4,
   "id": "2d2639f4",
   "metadata": {},
   "outputs": [],
   "source": [
    "gray = cv2.cvtColor(image, cv2.COLOR_BGR2GRAY)\n",
    "for i in range(0, 3):\n",
    "    eroded = cv2.erode(gray.copy(), None, iterations=i + 1)\n",
    "    ima = cv2.resize(eroded, (960, 540)) \n",
    "    cv2.imshow(\"Eroded {} times\".format(i + 1), ima)\n",
    "    cv2.waitKey(0)"
   ]
  },
  {
   "cell_type": "code",
   "execution_count": 5,
   "id": "f0a2d441",
   "metadata": {},
   "outputs": [],
   "source": [
    "gray = cv2.cvtColor(image, cv2.COLOR_BGR2GRAY)\n",
    "kernelSizes = [(3, 3), (5, 5), (7, 7)]\n",
    "for kernelSize in kernelSizes:\n",
    "    kernel = cv2.getStructuringElement(cv2.MORPH_RECT, kernelSize)\n",
    "    opening = cv2.morphologyEx(gray, cv2.MORPH_OPEN, kernel)\n",
    "    ima = cv2.resize(opening, (960, 540)) \n",
    "    cv2.imshow(\"Opening: ({}, {})\".format(kernelSize[0], kernelSize[1]), ima)\n",
    "    cv2.waitKey(0)"
   ]
  },
  {
   "cell_type": "code",
   "execution_count": 6,
   "id": "66b30e77",
   "metadata": {},
   "outputs": [],
   "source": [
    "gray = cv2.cvtColor(image, cv2.COLOR_BGR2GRAY)\n",
    "kernelSizes = [(3, 3), (5, 5), (7, 7)]\n",
    "for kernelSize in kernelSizes:\n",
    "    kernel = cv2.getStructuringElement(cv2.MORPH_RECT, kernelSize)\n",
    "    closing = cv2.morphologyEx(gray, cv2.MORPH_CLOSE, kernel)\n",
    "    ima = cv2.resize(closing, (960, 540)) \n",
    "    cv2.imshow(\"Closing: ({}, {})\".format(kernelSize[0], kernelSize[1]), ima)\n",
    "    cv2.waitKey(0)"
   ]
  },
  {
   "cell_type": "code",
   "execution_count": 7,
   "id": "60a7be92",
   "metadata": {},
   "outputs": [],
   "source": [
    "gray = cv2.cvtColor(image, cv2.COLOR_BGR2GRAY)\n",
    "kernelSizes = [(3, 3), (5, 5), (7, 7)]\n",
    "for kernelSize in kernelSizes:\n",
    "    kernel = cv2.getStructuringElement(cv2.MORPH_RECT, kernelSize)\n",
    "    gradient = cv2.morphologyEx(gray, cv2.MORPH_GRADIENT, kernel)\n",
    "    ima = cv2.resize(gradient, (960, 540)) \n",
    "    cv2.imshow(\"Gradient: ({}, {})\".format(kernelSize[0], kernelSize[1]), ima)\n",
    "    cv2.waitKey(0)"
   ]
  },
  {
   "cell_type": "code",
   "execution_count": 8,
   "id": "13104e98",
   "metadata": {},
   "outputs": [
    {
     "data": {
      "text/plain": [
       "-1"
      ]
     },
     "execution_count": 8,
     "metadata": {},
     "output_type": "execute_result"
    }
   ],
   "source": [
    "gray = cv2.cvtColor(image, cv2.COLOR_BGR2GRAY)\n",
    "rectKernel = cv2.getStructuringElement(cv2.MORPH_RECT, (13, 5))\n",
    "blackhat = cv2.morphologyEx(gray, cv2.MORPH_BLACKHAT, rectKernel)\n",
    "ima = cv2.resize(image, (960, 540)) \n",
    "cv2.imshow(\"Original\", ima)\n",
    "ima = cv2.resize(blackhat, (960, 540)) \n",
    "cv2.imshow(\"BlackHat\", ima)\n",
    "cv2.waitKey(0)"
   ]
  },
  {
   "cell_type": "code",
   "execution_count": 9,
   "id": "3c653994",
   "metadata": {},
   "outputs": [
    {
     "data": {
      "text/plain": [
       "-1"
      ]
     },
     "execution_count": 9,
     "metadata": {},
     "output_type": "execute_result"
    }
   ],
   "source": [
    "gray = cv2.cvtColor(image, cv2.COLOR_BGR2GRAY)\n",
    "rectKernel = cv2.getStructuringElement(cv2.MORPH_RECT, (13, 5))\n",
    "tophat = cv2.morphologyEx(gray, cv2.MORPH_TOPHAT, rectKernel)\n",
    "ima = cv2.resize(image, (960, 540)) \n",
    "cv2.imshow(\"Original\", ima)\n",
    "ima = cv2.resize(tophat, (960, 540)) \n",
    "cv2.imshow(\"TopHat\", ima)\n",
    "cv2.waitKey(0)"
   ]
  },
  {
   "cell_type": "code",
   "execution_count": 10,
   "id": "30cbf169",
   "metadata": {},
   "outputs": [],
   "source": [
    "edges = cv2.Canny(image, 100, 200)\n",
    "ima = cv2.resize(image, (960, 540)) \n",
    "cv2.imshow(\"Original\", ima)\n",
    "ima = cv2.resize(edges, (960, 540)) \n",
    "cv2.imshow(\"Edge Detected Image\", ima)"
   ]
  },
  {
   "cell_type": "code",
   "execution_count": 11,
   "id": "0bb593d9",
   "metadata": {},
   "outputs": [],
   "source": [
    "blur = cv2.blur(image, (3,3))\n",
    "ima = cv2.resize(image, (960, 540)) \n",
    "cv2.imshow(\"Original\", ima)\n",
    "ima = cv2.resize(blur, (960, 540)) \n",
    "cv2.imshow('Blurred Image', ima)"
   ]
  },
  {
   "cell_type": "code",
   "execution_count": 4,
   "id": "c0ef6343",
   "metadata": {},
   "outputs": [],
   "source": [
    "# ImageFilter for using filter() function\n",
    "from PIL import Image, ImageFilter\n",
    "  \n",
    "# Opening the image \n",
    "# (R prefixed to string in order to deal with '\\' in paths)\n",
    "image = Image.open('D:/Sursee_2020/2020-10-22_adi_Wetzwil-RGB/img/DSC01552.JPG')\n",
    "image.show()\n",
    "# Blurring image by sending the ImageFilter.\n",
    "# GaussianBlur predefined kernel argument\n",
    "image_new = image.filter(ImageFilter.GaussianBlur)\n",
    "  \n",
    "# Displaying the image\n",
    "image_new.show()"
   ]
  },
  {
   "cell_type": "code",
   "execution_count": 10,
   "id": "3ae31cba",
   "metadata": {},
   "outputs": [
    {
     "data": {
      "image/png": "[encoded data removed]",
      "text/plain": [
       "<Figure size 432x288 with 2 Axes>"
      ]
     },
     "metadata": {},
     "output_type": "display_data"
    }
   ],
   "source": [
    "import cv2\n",
    "import numpy as np\n",
    "from matplotlib import pyplot as plt\n",
    "\n",
    "img = cv2.imread('D:/Sursee_2020/2020-10-22_adi_Wetzwil-RGB/img/DSC01552.JPG')\n",
    "\n",
    "kernel = np.ones((5,5),np.float32)/25\n",
    "#dst = cv2.filter2D(img,-1,kernel)\n",
    "dst = cv2.bilateralFilter(img,0,0,0)\n",
    "\n",
    "plt.subplot(121),plt.imshow(img),plt.title('Original')\n",
    "plt.xticks([]), plt.yticks([])\n",
    "plt.subplot(122),plt.imshow(dst),plt.title('Averaging')\n",
    "plt.xticks([]), plt.yticks([])\n",
    "plt.show()"
   ]
  },
  {
   "cell_type": "code",
   "execution_count": 29,
   "id": "ce1b41bd",
   "metadata": {},
   "outputs": [
    {
     "ename": "NameError",
     "evalue": "name 'ogr' is not defined",
     "output_type": "error",
     "traceback": [
      "\u001b[1;31m---------------------------------------------------------------------------\u001b[0m",
      "\u001b[1;31mNameError\u001b[0m                                 Traceback (most recent call last)",
      "\u001b[1;32m<ipython-input-29-7cc408240b95>\u001b[0m in \u001b[0;36m<module>\u001b[1;34m\u001b[0m\n\u001b[0;32m      4\u001b[0m \u001b[1;33m\u001b[0m\u001b[0m\n\u001b[0;32m      5\u001b[0m \u001b[0mimg\u001b[0m \u001b[1;33m=\u001b[0m \u001b[0mcv2\u001b[0m\u001b[1;33m.\u001b[0m\u001b[0mimread\u001b[0m\u001b[1;33m(\u001b[0m\u001b[1;34m'D:/cbr/VP2/VP2_SoilMapping/Processed/Wetzwil_Ortho/rgb.tif'\u001b[0m\u001b[1;33m)\u001b[0m\u001b[1;33m\u001b[0m\u001b[1;33m\u001b[0m\u001b[0m\n\u001b[1;32m----> 6\u001b[1;33m \u001b[0mnaip_ds\u001b[0m \u001b[1;33m=\u001b[0m \u001b[0mogr\u001b[0m\u001b[1;33m.\u001b[0m\u001b[0mOpen\u001b[0m\u001b[1;33m(\u001b[0m\u001b[1;34m'D:/cbr/VP2/VP2_SoilMapping/Processed/Wetzwil_Ortho/rgb.tif'\u001b[0m\u001b[1;33m)\u001b[0m\u001b[1;33m\u001b[0m\u001b[1;33m\u001b[0m\u001b[0m\n\u001b[0m\u001b[0;32m      7\u001b[0m \u001b[0mkernel\u001b[0m \u001b[1;33m=\u001b[0m \u001b[0mnp\u001b[0m\u001b[1;33m.\u001b[0m\u001b[0mones\u001b[0m\u001b[1;33m(\u001b[0m\u001b[1;33m(\u001b[0m\u001b[1;36m5\u001b[0m\u001b[1;33m,\u001b[0m\u001b[1;36m5\u001b[0m\u001b[1;33m)\u001b[0m\u001b[1;33m,\u001b[0m\u001b[0mnp\u001b[0m\u001b[1;33m.\u001b[0m\u001b[0muint8\u001b[0m\u001b[1;33m)\u001b[0m\u001b[1;33m\u001b[0m\u001b[1;33m\u001b[0m\u001b[0m\n\u001b[0;32m      8\u001b[0m \u001b[0merosion\u001b[0m \u001b[1;33m=\u001b[0m \u001b[0mcv2\u001b[0m\u001b[1;33m.\u001b[0m\u001b[0merode\u001b[0m\u001b[1;33m(\u001b[0m\u001b[0mimg\u001b[0m\u001b[1;33m,\u001b[0m\u001b[0mkernel\u001b[0m\u001b[1;33m,\u001b[0m\u001b[0miterations\u001b[0m \u001b[1;33m=\u001b[0m \u001b[1;36m10\u001b[0m\u001b[1;33m)\u001b[0m\u001b[1;33m\u001b[0m\u001b[1;33m\u001b[0m\u001b[0m\n",
      "\u001b[1;31mNameError\u001b[0m: name 'ogr' is not defined"
     ]
    }
   ],
   "source": [
    "import cv2\n",
    "import numpy as np\n",
    "from PIL import Image\n",
    "import ogr\n",
    "\n",
    "img = cv2.imread('D:/cbr/VP2/VP2_SoilMapping/Processed/Wetzwil_Ortho/rgb.tif')\n",
    "naip_ds = ogr.Open('D:/cbr/VP2/VP2_SoilMapping/Processed/Wetzwil_Ortho/rgb.tif')\n",
    "kernel = np.ones((5,5),np.uint8)\n",
    "erosion = cv2.erode(img,kernel,iterations = 10)\n",
    "\n",
    "\n",
    "plt.subplot(121),plt.imshow(img),plt.title('Original')\n",
    "plt.xticks([]), plt.yticks([])\n",
    "plt.subplot(122),plt.imshow(erosion),plt.title('Averaging')\n",
    "plt.xticks([]), plt.yticks([])\n",
    "plt.show()\n",
    "\n",
    "ima = cv2.resize(img, (960, 540)) \n",
    "cv2.imshow(\"Original\", ima)\n",
    "\n",
    "ima = cv2.resize(erosion, (960, 540)) \n",
    "cv2.imshow(\"Erosion\", ima)\n",
    "cv2.waitKey(0)\n",
    "\n",
    "\n",
    "im = Image.fromarray(erosion)\n",
    "im.save('D:/cbr/VP2/VP2_SoilMapping/Processed/Erosion.tif')\n",
    "\n",
    "def CreateGeoTiff(Name, Array, driver, GeoT, Projection, DataType):\n",
    "    DataSet = driver.Create(Name, naip_ds.RasterXSize, naip_ds.RasterYSize, 1, DataType)\n",
    "    DataSet.SetGeoTransform(GeoT)\n",
    "    DataSet.SetProjection(Projection)\n",
    "    DataSet.GetRasterBand(1).SetNoDataValue(-9999.0)\n",
    "    DataSet.GetRasterBand(1).WriteArray(Array)\n",
    "    DataSet.FlushCache()\n",
    "    return Name\n",
    "\n",
    "CreateGeoTiff('D:/cbr/VP2/VP2_SoilMapping/Processed/Erosion_Richtig.tif', erosion, gdal.GetDriverByName ( \"GTiff\" ), naip_ds.GetGeoTransform(), naip_ds.GetProjection(), gdal.GDT_Float32)\n"
   ]
  },
  {
   "cell_type": "code",
   "execution_count": null,
   "id": "69c6cadc",
   "metadata": {},
   "outputs": [],
   "source": []
  }
 ],
 "metadata": {
  "kernelspec": {
   "display_name": "Python 3",
   "language": "python",
   "name": "python3"
  },
  "language_info": {
   "codemirror_mode": {
    "name": "ipython",
    "version": 3
   },
   "file_extension": ".py",
   "mimetype": "text/x-python",
   "name": "python",
   "nbconvert_exporter": "python",
   "pygments_lexer": "ipython3",
   "version": "3.8.8"
  }
 },
 "nbformat": 4,
 "nbformat_minor": 5
}
