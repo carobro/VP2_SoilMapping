{
 "cells": [
  {
   "cell_type": "code",
   "execution_count": 1,
   "metadata": {},
   "outputs": [
    {
     "name": "stdout",
     "output_type": "stream",
     "text": [
      "class names ['Wiese' 'Mix' 'Brache' 'Lehm' 'Strasse' 'Baum']\n",
      "class_ids [1 2 3 4 5 6]\n",
      "without ids      id    typ                  geometry\n",
      "0  None  Wiese  POINT (8.13195 47.21716)\n",
      "1  None  Wiese  POINT (8.13238 47.21729)\n",
      "2  None  Wiese  POINT (8.13217 47.21727)\n",
      "3  None  Wiese  POINT (8.13166 47.21719)\n",
      "4  None  Wiese  POINT (8.13277 47.21725)\n",
      "with ids    id    typ                  geometry\n",
      "0   1  Wiese  POINT (8.13195 47.21716)\n",
      "1   1  Wiese  POINT (8.13238 47.21729)\n",
      "2   1  Wiese  POINT (8.13217 47.21727)\n",
      "3   1  Wiese  POINT (8.13166 47.21719)\n",
      "4   1  Wiese  POINT (8.13277 47.21725)\n",
      "gdf shape (77, 3) training shape (54, 3) test shape (23, 3)\n"
     ]
    }
   ],
   "source": [
    "import numpy as np\n",
    "from osgeo import gdal\n",
    "import pandas as pd\n",
    "import geopandas as gpd\n",
    "\n",
    "print(os.getcwd())\n",
    "\n",
    "naip_fn = \"D:/cbr/VP2/VP2_SoilMapping/CodeOutput/output_file_rgb.tif\"\n",
    "naip_ds = gdal.Open(naip_fn)\n",
    "nrows = naip_ds.RasterYSize\n",
    "ncols = naip_ds.RasterXSize\n",
    "\n",
    "gdf = gpd.read_file(\"D:/cbr/VP2/VP2_SoilMapping/Shapes/punktproben.shp\")\n",
    "class_names = gdf['typ'].unique()\n",
    "print('class names' , class_names)\n",
    "class_ids = np.arange(class_names.size) + 1\n",
    "print('class_ids', class_ids)\n",
    "df = pd.DataFrame({'typ': class_names, 'id': class_ids})\n",
    "df.to_csv(\"D:/cbr/VP2/VP2_SoilMapping/Shapes/class_lookup.csv\")\n",
    "print('without ids', gdf.head())\n",
    "gdf['id'] = gdf['typ'].map(dict(zip(class_names, class_ids)))\n",
    "print('with ids', gdf.head())\n",
    "\n",
    "\n",
    "gdf_train = gdf.sample(frac=0.7)\n",
    "gdf_test = gdf.drop(gdf_train.index)\n",
    "print('gdf shape', gdf.shape,'training shape', gdf_train.shape,'test shape', gdf_test.shape)\n",
    "\n",
    "gdf_train.to_file(\"D:/cbr/VP2/VP2_SoilMapping/Shapes/train.shp\")\n",
    "gdf_test.to_file(\"D:/cbr/VP2/VP2_SoilMapping/Shapes/test.shp\")"
   ]
  }
 ],
 "metadata": {
  "interpreter": {
   "hash": "7b3869acfdba34c56e2bedf91b21357bab8a3024fdb722ea37327488350c28b2"
  },
  "kernelspec": {
   "display_name": "Python 3",
   "language": "python",
   "name": "python3"
  },
  "language_info": {
   "codemirror_mode": {
    "name": "ipython",
    "version": 3
   },
   "file_extension": ".py",
   "mimetype": "text/x-python",
   "name": "python",
   "nbconvert_exporter": "python",
   "pygments_lexer": "ipython3",
   "version": "3.8.8"
  }
 },
 "nbformat": 4,
 "nbformat_minor": 2
}
