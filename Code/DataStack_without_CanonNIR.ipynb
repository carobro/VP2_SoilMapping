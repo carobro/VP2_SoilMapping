{
 "cells": [
  {
   "cell_type": "code",
   "execution_count": 7,
   "metadata": {},
   "outputs": [],
   "source": [
    "%reset\n",
    "import matplotlib.pyplot as plt\n",
    "import rasterio \n",
    "from rasterio.plot import plotting_extent, show\n",
    "from rasterio.merge import merge\n",
    "import geopandas as gpd\n",
    "from osgeo import gdal\n",
    "import numpy as np\n",
    "from skimage import io\n",
    "\n",
    "\n",
    "def data_fusion_mspec(ortho_rgb, ortho_mspec, outputpath):\n",
    "    \n",
    "    ortho_rgb = ortho_rgb\n",
    "    ortho_mspec = ortho_mspec\n",
    "    \n",
    "    c = gdal.Open(ortho_mspec)\n",
    "    x = gdal.Open(ortho_rgb)\n",
    "    d = gdal.Open(dem)\n",
    "    \n",
    "    dsReprj_mspec= gdal.Warp(\"D:/cbr/VP2/VP2_SoilMapping/CodeOutput/demRepr_mspec_5.tif\", c, xRes = x.GetGeoTransform()[1], yRes= x.GetGeoTransform()[5])\n",
    "    dsReprj_dem = gdal.Warp(\"D:/cbr/VP2/VP2_SoilMapping/CodeOutput/demRepr_dem_5.tif\", d, xRes = x.GetGeoTransform()[1], yRes= x.GetGeoTransform()[5])\n",
    "    dsReprj_rgb = gdal.Warp(\"D:/cbr/VP2/VP2_SoilMapping/CodeOutput/demRepr_rgb_5.tif\", x, xRes = x.GetGeoTransform()[1], yRes= x.GetGeoTransform()[5])\n",
    "    \n",
    "    stack = []\n",
    "    \n",
    "    rgb_red = dsReprj_rgb.GetRasterBand(1).ReadAsArray().astype(np.float32)\n",
    "    rgb_green = dsReprj_rgb.GetRasterBand(2).ReadAsArray().astype(np.float32)\n",
    "    rgb_blue =  dsReprj_rgb.GetRasterBand(3).ReadAsArray().astype(np.float32)\n",
    "    stack.append(rgb_red)\n",
    "    stack.append(rgb_green)\n",
    "    stack.append(rgb_blue)\n",
    "    \n",
    "\n",
    "    mspec_rededge = dsReprj_mspec.GetRasterBand(3).ReadAsArray().astype(np.float32) \n",
    "    mspec_nir = dsReprj_mspec.GetRasterBand(4).ReadAsArray().astype(np.float32) \n",
    "    mspec_red = dsReprj_mspec.GetRasterBand(2).ReadAsArray().astype(np.float32)\n",
    "    mspec_ndvi = (mspec_nir - mspec_red)/(mspec_nir + mspec_red)\n",
    "    stack.append(mspec_rededge)\n",
    "    stack.append(mspec_nir)\n",
    "    stack.append(mspec_ndvi)\n",
    "\n",
    "    dem_chanel = dsReprj_dem.GetRasterBand(1).ReadAsArray().astype(np.float32)\n",
    "    stack.append(dem_chanel)\n",
    "    \n",
    "    print(\"Channel count\", len(stack))\n",
    "    #stack_data = np.asarray(stack, dtype=object)\n",
    "    stack_data = np.array(stack, dtype=object)\n",
    "\n",
    "    yvalue = 0\n",
    "    xvalue = 0\n",
    "    for i in stack_data:\n",
    "        if yvalue < i.shape[0]:\n",
    "            yvalue = i.shape[0]\n",
    "\n",
    "        if xvalue < i.shape[1]:\n",
    "            xvalue = i.shape[1]\n",
    "    \n",
    "    print(\"Maximum Value: \", xvalue, \"Minimum Value: \", yvalue)\n",
    "   \n",
    "   \n",
    "    driver = gdal.GetDriverByName ( \"GTiff\" )\n",
    "    DataSet = driver.Create(outputpath, xvalue, yvalue, len(stack_data), gdal.GDT_Float32)\n",
    "    DataSet.SetGeoTransform(x.GetGeoTransform())\n",
    "    DataSet.SetProjection(x.GetProjection())\n",
    "    for i, image in enumerate(stack_data, 1):\n",
    "        DataSet.GetRasterBand(i).WriteArray(image)\n",
    "        DataSet.GetRasterBand(i).SetNoDataValue(-9999.0)\n",
    "    DataSet.FlushCache()\n",
    "\n",
    "    print(\"Finished     .tiff file created\")\n",
    "    return None"
   ]
  },
  {
   "cell_type": "code",
   "execution_count": 8,
   "metadata": {},
   "outputs": [
    {
     "name": "stderr",
     "output_type": "stream",
     "text": [
      "C:\\Users\\ST1154~1\\AppData\\Local\\Temp/ipykernel_10260/3925752296.py:41: RuntimeWarning: invalid value encountered in true_divide\n",
      "  mspec_ndvi = (mspec_nir - mspec_red)/(mspec_nir + mspec_red)\n"
     ]
    },
    {
     "name": "stdout",
     "output_type": "stream",
     "text": [
      "Channel count 7\n",
      "Maximum Value:  8125 Minimum Value:  6813\n",
      "Finished     .tiff file created\n"
     ]
    }
   ],
   "source": [
    "ortho_rgb   = \"D:/cbr/VP2/VP2_SoilMapping/Processed/Wetzwil_Ortho/prediction2/Wetzwil_pred_rgb3.tif\"\n",
    "ortho_mspec = \"D:/cbr/VP2/VP2_SoilMapping/Processed/Wetzwil_Ortho/prediction2/Wetzwil_pred_mspec3.tif\"\n",
    "dem         = \"D:/cbr/VP2/VP2_SoilMapping/Processed/Wetzwil_Ortho/prediction2/Wetzwil_pred_dem3.tif\"\n",
    "outputpath2 = \"D:/cbr/VP2/VP2_SoilMapping/Processed/Wetzwil_Ortho/prediction2/Stack.tif\"\n",
    "\n",
    "data_fusion_mspec(ortho_rgb, ortho_mspec, outputpath2)"
   ]
  }
 ],
 "metadata": {
  "interpreter": {
   "hash": "7b3869acfdba34c56e2bedf91b21357bab8a3024fdb722ea37327488350c28b2"
  },
  "kernelspec": {
   "display_name": "Python 3.9.7 64-bit ('pygdal': conda)",
   "language": "python",
   "name": "python3"
  },
  "language_info": {
   "codemirror_mode": {
    "name": "ipython",
    "version": 3
   },
   "file_extension": ".py",
   "mimetype": "text/x-python",
   "name": "python",
   "nbconvert_exporter": "python",
   "pygments_lexer": "ipython3",
   "version": "3.9.7"
  },
  "orig_nbformat": 4
 },
 "nbformat": 4,
 "nbformat_minor": 2
}
