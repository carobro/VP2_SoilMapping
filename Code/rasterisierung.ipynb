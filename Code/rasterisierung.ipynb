{
 "cells": [
  {
   "cell_type": "code",
   "execution_count": 9,
   "metadata": {},
   "outputs": [
    {
     "name": "stdout",
     "output_type": "stream",
     "text": [
      "min 0 max 6 mean 3.921082379065323e-06\n"
     ]
    }
   ],
   "source": [
    "import numpy as np\n",
    "from osgeo import gdal, ogr\n",
    "import pandas as pd\n",
    "import geopandas as gpd\n",
    "\n",
    "naip_fn = \"D:/cbr/VP2/CodeOutput/output_file_rgb.tif\"\n",
    "naip_ds = gdal.Open(naip_fn)\n",
    "\n",
    "train_fn = \"D:/cbr/VP2/train.shp\"\n",
    "train_ds = ogr.Open(train_fn)\n",
    "lyr = train_ds.GetLayer()\n",
    "driver = gdal.GetDriverByName('MEM')\n",
    "target_ds = driver.Create('', naip_ds.RasterXSize, naip_ds.RasterYSize, 1, gdal.GDT_UInt16)\n",
    "target_ds.SetGeoTransform(naip_ds.GetGeoTransform())\n",
    "target_ds.SetProjection(naip_ds.GetProjection())\n",
    "options = ['ATTRIBUTE=id']\n",
    "gdal.RasterizeLayer(target_ds, [1], lyr, options=options)\n",
    "data = target_ds.GetRasterBand(1).ReadAsArray()\n",
    "print('min', data.min(), 'max', data.max(), 'mean', data.mean())\n",
    "\n"
   ]
  }
 ],
 "metadata": {
  "interpreter": {
   "hash": "7b3869acfdba34c56e2bedf91b21357bab8a3024fdb722ea37327488350c28b2"
  },
  "kernelspec": {
   "display_name": "Python 3.9.7 64-bit ('pygdal': conda)",
   "name": "python3"
  },
  "language_info": {
   "codemirror_mode": {
    "name": "ipython",
    "version": 3
   },
   "file_extension": ".py",
   "mimetype": "text/x-python",
   "name": "python",
   "nbconvert_exporter": "python",
   "pygments_lexer": "ipython3",
   "version": "3.9.7"
  },
  "orig_nbformat": 4
 },
 "nbformat": 4,
 "nbformat_minor": 2
}
