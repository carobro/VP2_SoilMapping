{
 "cells": [
  {
   "cell_type": "code",
   "execution_count": 5,
   "metadata": {},
   "outputs": [],
   "source": [
    "%reset\n",
    "import matplotlib.pyplot as plt\n",
    "import rasterio \n",
    "from rasterio.plot import plotting_extent, show\n",
    "from rasterio.merge import merge\n",
    "import geopandas as gpd\n",
    "from osgeo import gdal\n",
    "import numpy as np\n",
    "from skimage import io\n",
    "\n",
    "\n",
    "def data_fusion(ortho_nir, ortho_rgb, ortho_mspec, outputpath):\n",
    "    \n",
    "    ortho_NIR = ortho_nir\n",
    "    ortho_rgb = ortho_rgb\n",
    "    ortho_mspec = ortho_mspec\n",
    "    \n",
    "    g = gdal.Open(ortho_NIR)\n",
    "    c = gdal.Open(ortho_mspec)\n",
    "    x = gdal.Open(ortho_rgb)\n",
    "    \n",
    "    dsReprj_mspec= gdal.Warp(\"D:/cbr/VP2/VP2_SoilMapping/CodeOutput/demRepr_mspec_5.tif\", c, xRes = x.GetGeoTransform()[1], yRes= x.GetGeoTransform()[5])\n",
    "    dsReprj_nir = gdal.Warp(\"D:/cbr/VP2/VP2_SoilMapping/CodeOutput/demRepr_nir_5.tif\", g, xRes = x.GetGeoTransform()[1], yRes= x.GetGeoTransform()[5])\n",
    "    dsReprj_rgb = gdal.Warp(\"D:/cbr/VP2/VP2_SoilMapping/CodeOutput/demRepr_rgb_5.tif\", x, xRes = x.GetGeoTransform()[1], yRes= x.GetGeoTransform()[5])\n",
    "    \n",
    "    stack = []\n",
    "   \n",
    "    rgb_red = dsReprj_rgb.GetRasterBand(1).ReadAsArray().astype(np.uint8)\n",
    "    rgb_green = dsReprj_rgb.GetRasterBand(2).ReadAsArray().astype(np.uint8)\n",
    "    rgb_blue =  dsReprj_rgb.GetRasterBand(3).ReadAsArray().astype(np.uint8)\n",
    "    stack.append(rgb_red)\n",
    "    stack.append(rgb_green)\n",
    "    stack.append(rgb_blue)\n",
    "    \n",
    "    mspec_rededge = dsReprj_mspec.GetRasterBand(3).ReadAsArray().astype(np.uint8) \n",
    "    stack.append(mspec_rededge)\n",
    "   \n",
    "    b3 = dsReprj_nir.GetRasterBand(2).ReadAsArray().astype(np.uint8)\n",
    "    b4 = dsReprj_nir.GetRasterBand(3).ReadAsArray().astype(np.uint8)\n",
    "    nir_ndvi = (b4 - b3)/(b4 + b3)\n",
    "    nir_nir = dsReprj_nir.GetRasterBand(3).ReadAsArray().astype(np.uint8)\n",
    "    stack.append(nir_nir)\n",
    "    stack.append(nir_ndvi)\n",
    " \n",
    "    print(len(stack),len(stack[0]))\n",
    "    stack_d = np.empty((0,6), dtype= object)\n",
    "    print(type(stack))\n",
    "    print(stack_d)\n",
    "    stack_d = np.append(stack_d, np.array([rgb_red, rgb_green,rgb_blue, mspec_rededge, nir_nir, nir_ndvi]), axis=0)\n",
    "    #stack_data = np.asarray(stack, dtype=object)\n",
    "    #stack_data = np.array(stack, dtype=object)\n",
    "   \n",
    "    #driver = gdal.GetDriverByName ( \"GTiff\" )\n",
    "    #DataSet = driver.Create(outputpath, stack_data[4].shape[1], stack_data[4].shape[0], len(stack_data), gdal.GDT_Float32)\n",
    "    #DataSet.SetGeoTransform(x.GetGeoTransform())\n",
    "    #DataSet.SetProjection(x.GetProjection())\n",
    "    #print('---------------------')\n",
    "    #for i, image in enumerate(stack_data, 1):\n",
    "    #    DataSet.GetRasterBand(i).WriteArray(image)\n",
    "    #    DataSet.GetRasterBand(i).SetNoDataValue(-9999.0)\n",
    "    #DataSet.FlushCache()"
   ]
  },
  {
   "cell_type": "code",
   "execution_count": 6,
   "metadata": {},
   "outputs": [
    {
     "name": "stderr",
     "output_type": "stream",
     "text": [
      "C:\\Users\\ST1154~1\\AppData\\Local\\Temp/ipykernel_11836/3394642761.py:40: RuntimeWarning: divide by zero encountered in true_divide\n",
      "  nir_ndvi = (b4 - b3)/(b4 + b3)\n",
      "C:\\Users\\ST1154~1\\AppData\\Local\\Temp/ipykernel_11836/3394642761.py:40: RuntimeWarning: invalid value encountered in true_divide\n",
      "  nir_ndvi = (b4 - b3)/(b4 + b3)\n"
     ]
    },
    {
     "name": "stdout",
     "output_type": "stream",
     "text": [
      "6 28102\n",
      "<class 'list'>\n",
      "[]\n"
     ]
    },
    {
     "name": "stderr",
     "output_type": "stream",
     "text": [
      "C:\\Users\\ST1154~1\\AppData\\Local\\Temp/ipykernel_11836/3394642761.py:49: VisibleDeprecationWarning: Creating an ndarray from ragged nested sequences (which is a list-or-tuple of lists-or-tuples-or ndarrays with different lengths or shapes) is deprecated. If you meant to do this, you must specify 'dtype=object' when creating the ndarray.\n",
      "  stack_d = np.append(stack_d, np.array([rgb_red, rgb_green,rgb_blue, mspec_rededge, nir_nir, nir_ndvi]), axis=0)\n"
     ]
    },
    {
     "ename": "ValueError",
     "evalue": "all the input arrays must have same number of dimensions, but the array at index 0 has 2 dimension(s) and the array at index 1 has 1 dimension(s)",
     "output_type": "error",
     "traceback": [
      "\u001b[1;31m---------------------------------------------------------------------------\u001b[0m",
      "\u001b[1;31mValueError\u001b[0m                                Traceback (most recent call last)",
      "\u001b[1;32mC:\\Users\\ST1154~1\\AppData\\Local\\Temp/ipykernel_11836/917064887.py\u001b[0m in \u001b[0;36m<module>\u001b[1;34m\u001b[0m\n\u001b[0;32m      9\u001b[0m \u001b[0moutputpath\u001b[0m \u001b[1;33m=\u001b[0m \u001b[1;34m\"D:/cbr/VP2/VP2_SoilMapping/CodeOutput/channelFusion_Ortho_Wetzwil.tif\"\u001b[0m\u001b[1;33m\u001b[0m\u001b[1;33m\u001b[0m\u001b[0m\n\u001b[0;32m     10\u001b[0m \u001b[1;33m\u001b[0m\u001b[0m\n\u001b[1;32m---> 11\u001b[1;33m \u001b[0mdata_fusion\u001b[0m\u001b[1;33m(\u001b[0m\u001b[0mortho_NIR\u001b[0m\u001b[1;33m,\u001b[0m \u001b[0mortho_rgb\u001b[0m\u001b[1;33m,\u001b[0m \u001b[0mortho_mspec\u001b[0m\u001b[1;33m,\u001b[0m \u001b[0moutputpath\u001b[0m\u001b[1;33m)\u001b[0m\u001b[1;33m\u001b[0m\u001b[1;33m\u001b[0m\u001b[0m\n\u001b[0m",
      "\u001b[1;32mC:\\Users\\ST1154~1\\AppData\\Local\\Temp/ipykernel_11836/3394642761.py\u001b[0m in \u001b[0;36mdata_fusion\u001b[1;34m(ortho_nir, ortho_rgb, ortho_mspec, outputpath)\u001b[0m\n\u001b[0;32m     47\u001b[0m     \u001b[0mprint\u001b[0m\u001b[1;33m(\u001b[0m\u001b[0mtype\u001b[0m\u001b[1;33m(\u001b[0m\u001b[0mstack\u001b[0m\u001b[1;33m)\u001b[0m\u001b[1;33m)\u001b[0m\u001b[1;33m\u001b[0m\u001b[1;33m\u001b[0m\u001b[0m\n\u001b[0;32m     48\u001b[0m     \u001b[0mprint\u001b[0m\u001b[1;33m(\u001b[0m\u001b[0mstack_d\u001b[0m\u001b[1;33m)\u001b[0m\u001b[1;33m\u001b[0m\u001b[1;33m\u001b[0m\u001b[0m\n\u001b[1;32m---> 49\u001b[1;33m     \u001b[0mstack_d\u001b[0m \u001b[1;33m=\u001b[0m \u001b[0mnp\u001b[0m\u001b[1;33m.\u001b[0m\u001b[0mappend\u001b[0m\u001b[1;33m(\u001b[0m\u001b[0mstack_d\u001b[0m\u001b[1;33m,\u001b[0m \u001b[0mnp\u001b[0m\u001b[1;33m.\u001b[0m\u001b[0marray\u001b[0m\u001b[1;33m(\u001b[0m\u001b[1;33m[\u001b[0m\u001b[0mrgb_red\u001b[0m\u001b[1;33m,\u001b[0m \u001b[0mrgb_green\u001b[0m\u001b[1;33m,\u001b[0m\u001b[0mrgb_blue\u001b[0m\u001b[1;33m,\u001b[0m \u001b[0mmspec_rededge\u001b[0m\u001b[1;33m,\u001b[0m \u001b[0mnir_nir\u001b[0m\u001b[1;33m,\u001b[0m \u001b[0mnir_ndvi\u001b[0m\u001b[1;33m]\u001b[0m\u001b[1;33m)\u001b[0m\u001b[1;33m,\u001b[0m \u001b[0maxis\u001b[0m\u001b[1;33m=\u001b[0m\u001b[1;36m0\u001b[0m\u001b[1;33m)\u001b[0m\u001b[1;33m\u001b[0m\u001b[1;33m\u001b[0m\u001b[0m\n\u001b[0m\u001b[0;32m     50\u001b[0m     \u001b[1;31m#stack_data = np.asarray(stack, dtype=object)\u001b[0m\u001b[1;33m\u001b[0m\u001b[1;33m\u001b[0m\u001b[0m\n\u001b[0;32m     51\u001b[0m     \u001b[1;31m#stack_data = np.array(stack, dtype=object)\u001b[0m\u001b[1;33m\u001b[0m\u001b[1;33m\u001b[0m\u001b[0m\n",
      "\u001b[1;32m<__array_function__ internals>\u001b[0m in \u001b[0;36mappend\u001b[1;34m(*args, **kwargs)\u001b[0m\n",
      "\u001b[1;32m~\\.conda\\envs\\pygdal\\lib\\site-packages\\numpy\\lib\\function_base.py\u001b[0m in \u001b[0;36mappend\u001b[1;34m(arr, values, axis)\u001b[0m\n\u001b[0;32m   4815\u001b[0m         \u001b[0mvalues\u001b[0m \u001b[1;33m=\u001b[0m \u001b[0mravel\u001b[0m\u001b[1;33m(\u001b[0m\u001b[0mvalues\u001b[0m\u001b[1;33m)\u001b[0m\u001b[1;33m\u001b[0m\u001b[1;33m\u001b[0m\u001b[0m\n\u001b[0;32m   4816\u001b[0m         \u001b[0maxis\u001b[0m \u001b[1;33m=\u001b[0m \u001b[0marr\u001b[0m\u001b[1;33m.\u001b[0m\u001b[0mndim\u001b[0m\u001b[1;33m-\u001b[0m\u001b[1;36m1\u001b[0m\u001b[1;33m\u001b[0m\u001b[1;33m\u001b[0m\u001b[0m\n\u001b[1;32m-> 4817\u001b[1;33m     \u001b[1;32mreturn\u001b[0m \u001b[0mconcatenate\u001b[0m\u001b[1;33m(\u001b[0m\u001b[1;33m(\u001b[0m\u001b[0marr\u001b[0m\u001b[1;33m,\u001b[0m \u001b[0mvalues\u001b[0m\u001b[1;33m)\u001b[0m\u001b[1;33m,\u001b[0m \u001b[0maxis\u001b[0m\u001b[1;33m=\u001b[0m\u001b[0maxis\u001b[0m\u001b[1;33m)\u001b[0m\u001b[1;33m\u001b[0m\u001b[1;33m\u001b[0m\u001b[0m\n\u001b[0m\u001b[0;32m   4818\u001b[0m \u001b[1;33m\u001b[0m\u001b[0m\n\u001b[0;32m   4819\u001b[0m \u001b[1;33m\u001b[0m\u001b[0m\n",
      "\u001b[1;32m<__array_function__ internals>\u001b[0m in \u001b[0;36mconcatenate\u001b[1;34m(*args, **kwargs)\u001b[0m\n",
      "\u001b[1;31mValueError\u001b[0m: all the input arrays must have same number of dimensions, but the array at index 0 has 2 dimension(s) and the array at index 1 has 1 dimension(s)"
     ]
    }
   ],
   "source": [
    "#ortho_NIR = \"D:/cbr/VP2/VP2_SoilMapping/Processed/Wetzwil_Ortho/Wetzwil_gross_nir.tif\"\n",
    "#ortho_rgb = \"D:/cbr/VP2/VP2_SoilMapping/Processed/Wetzwil_Ortho/Wetzwil_gross.tif\"\n",
    "#ortho_mspec = \"D:/cbr/VP2/VP2_SoilMapping/Processed/Wetzwil_Ortho/Wetzwil_gross_mspec.tif\"\n",
    "#outputpath = \"D:/cbr/VP2/VP2_SoilMapping/CodeOutput/channelFusion_Wetzwil.tif\"\n",
    "\n",
    "ortho_NIR = \"D:/cbr/VP2/VP2_SoilMapping/Processed/orthophoto_Wetzwil_NIR.tif\"\n",
    "ortho_rgb = \"D:/cbr/VP2/VP2_SoilMapping/Processed/orthophoto_Wetzwil_rgb.tif\"\n",
    "ortho_mspec = \"D:/cbr/VP2/VP2_SoilMapping/Processed/orthophoto_Wetzwil_mspec.tif\"\n",
    "outputpath = \"D:/cbr/VP2/VP2_SoilMapping/CodeOutput/channelFusion_Ortho_Wetzwil.tif\"\n",
    "\n",
    "data_fusion(ortho_NIR, ortho_rgb, ortho_mspec, outputpath)"
   ]
  },
  {
   "cell_type": "code",
   "execution_count": null,
   "metadata": {},
   "outputs": [],
   "source": []
  }
 ],
 "metadata": {
  "interpreter": {
   "hash": "7b3869acfdba34c56e2bedf91b21357bab8a3024fdb722ea37327488350c28b2"
  },
  "kernelspec": {
   "display_name": "Python 3.9.7 64-bit ('pygdal': conda)",
   "name": "python3"
  },
  "language_info": {
   "codemirror_mode": {
    "name": "ipython",
    "version": 3
   },
   "file_extension": ".py",
   "mimetype": "text/x-python",
   "name": "python",
   "nbconvert_exporter": "python",
   "pygments_lexer": "ipython3",
   "version": "3.9.7"
  },
  "orig_nbformat": 4
 },
 "nbformat": 4,
 "nbformat_minor": 2
}
