import numpy as np
from osgeo import gdal, osr
from skimage import exposure
from skimage.segmentation import quickshift, slic
import time
import os
import matplotlib as mp
import matplotlib.pyplot as plt
import scipy
from scipy import stats
import geopandas as gpd

naip_fn = "C:/Users/st1154414/Desktop/VP2/Data/Sursee_2020/2020-10-22_adi_Wetzwil-RGB/img/DSC01500.JPG"
naip_ds = gdal.Open(naip_fn)
nrows = naip_ds.RasterYSize
ncols = naip_ds.RasterXSize

gdf = gpd.read_file("C:/Users/st1154414/Desktop/VP2/punktproben.shp")
class_names = gdf['typ'].unique()
