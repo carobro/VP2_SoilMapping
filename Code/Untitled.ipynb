{
 "cells": [
  {
   "cell_type": "code",
   "execution_count": 3,
   "id": "b8cad3aa",
   "metadata": {},
   "outputs": [
    {
     "ename": "FileNotFoundError",
     "evalue": "[WinError 3] Das System kann den angegebenen Pfad nicht finden: 'C:\\\\Users\\\\st1154414\\\\Desktop\\\\VP2/Data/Sursee_2020/2020-10-22_adi_beromuenster-nir/img/IMG_5971'",
     "output_type": "error",
     "traceback": [
      "\u001b[1;31m---------------------------------------------------------------------------\u001b[0m",
      "\u001b[1;31mFileNotFoundError\u001b[0m                         Traceback (most recent call last)",
      "\u001b[1;32mC:\\Users\\ST1154~1\\AppData\\Local\\Temp/ipykernel_17208/802152991.py\u001b[0m in \u001b[0;36m<module>\u001b[1;34m\u001b[0m\n\u001b[0;32m      2\u001b[0m \u001b[1;32mimport\u001b[0m \u001b[0mnumpy\u001b[0m \u001b[1;32mas\u001b[0m \u001b[0mnp\u001b[0m\u001b[1;33m\u001b[0m\u001b[1;33m\u001b[0m\u001b[0m\n\u001b[0;32m      3\u001b[0m \u001b[1;32mfrom\u001b[0m \u001b[0mfunciones\u001b[0m \u001b[1;32mimport\u001b[0m \u001b[0mgrafico\u001b[0m\u001b[1;33m,\u001b[0m \u001b[0mabririmagen\u001b[0m\u001b[1;33m\u001b[0m\u001b[1;33m\u001b[0m\u001b[0m\n\u001b[1;32m----> 4\u001b[1;33m \u001b[0ma\u001b[0m \u001b[1;33m=\u001b[0m \u001b[0mos\u001b[0m\u001b[1;33m.\u001b[0m\u001b[0mlistdir\u001b[0m\u001b[1;33m(\u001b[0m\u001b[0mos\u001b[0m\u001b[1;33m.\u001b[0m\u001b[0mgetcwd\u001b[0m\u001b[1;33m(\u001b[0m\u001b[1;33m)\u001b[0m\u001b[1;33m+\u001b[0m\u001b[1;34m'/Data/Sursee_2020/2020-10-22_adi_beromuenster-nir/img/IMG_5971'\u001b[0m\u001b[1;33m)\u001b[0m\u001b[1;33m\u001b[0m\u001b[1;33m\u001b[0m\u001b[0m\n\u001b[0m\u001b[0;32m      5\u001b[0m \u001b[0mprint\u001b[0m\u001b[1;33m(\u001b[0m\u001b[0ma\u001b[0m\u001b[1;33m)\u001b[0m\u001b[1;33m\u001b[0m\u001b[1;33m\u001b[0m\u001b[0m\n\u001b[0;32m      6\u001b[0m \u001b[0marreglogrande\u001b[0m \u001b[1;33m=\u001b[0m \u001b[0mnp\u001b[0m\u001b[1;33m.\u001b[0m\u001b[0mzeros\u001b[0m\u001b[1;33m(\u001b[0m\u001b[0mshape\u001b[0m\u001b[1;33m=\u001b[0m\u001b[1;33m(\u001b[0m\u001b[1;36m1000\u001b[0m\u001b[1;33m,\u001b[0m\u001b[1;36m1000\u001b[0m\u001b[1;33m,\u001b[0m\u001b[1;36m11\u001b[0m\u001b[1;33m)\u001b[0m\u001b[1;33m)\u001b[0m\u001b[1;33m\u001b[0m\u001b[1;33m\u001b[0m\u001b[0m\n",
      "\u001b[1;31mFileNotFoundError\u001b[0m: [WinError 3] Das System kann den angegebenen Pfad nicht finden: 'C:\\\\Users\\\\st1154414\\\\Desktop\\\\VP2/Data/Sursee_2020/2020-10-22_adi_beromuenster-nir/img/IMG_5971'"
     ]
    }
   ],
   "source": [
    "import os\n",
    "import numpy as np\n",
    "from funciones import grafico, abririmagen\n",
    "a = os.listdir(os.getcwd()+'/Data/Sursee_2020/2020-10-22_adi_beromuenster-nir/img/IMG_5971')\n",
    "print(a)\n",
    "arreglogrande = np.zeros(shape=(1000,1000,11))\n",
    "%pylab inline\n",
    "for item in range(len(a)-1): arreglogrande[:,:,item] = abririmagen(a[item],item)"
   ]
  },
  {
   "cell_type": "code",
   "execution_count": null,
   "id": "22d919e5",
   "metadata": {},
   "outputs": [],
   "source": [
    "ndvi = ((arreglogrande[:,:,4]-arreglogrande[:,:,3])/(arreglogrande[:,:,4]+arreglogrande[:,:,3]))*100\n",
    "from ipywidgets import widgets  \n",
    "def valor(x,y): return grafico(arreglogrande,ndvi,x,y)\n",
    "widgets.interact(valor, x=(1,int(arreglogrande.shape[1]-1),20),y=(1,int(arreglogrande.shape[1]-1),20))"
   ]
  }
 ],
 "metadata": {
  "kernelspec": {
   "display_name": "pygdal",
   "language": "python",
   "name": "pygdal"
  },
  "language_info": {
   "codemirror_mode": {
    "name": "ipython",
    "version": 3
   },
   "file_extension": ".py",
   "mimetype": "text/x-python",
   "name": "python",
   "nbconvert_exporter": "python",
   "pygments_lexer": "ipython3",
   "version": "3.9.7"
  }
 },
 "nbformat": 4,
 "nbformat_minor": 5
}
